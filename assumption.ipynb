{
 "cells": [
  {
   "cell_type": "code",
   "execution_count": 2,
   "metadata": {},
   "outputs": [
    {
     "name": "stdout",
     "output_type": "stream",
     "text": [
      "Forward process completed. Running reverse denoising...\n"
     ]
    },
    {
     "name": "stderr",
     "output_type": "stream",
     "text": [
      "4999it [00:01, 4932.37it/s]\n"
     ]
    },
    {
     "name": "stdout",
     "output_type": "stream",
     "text": [
      "Reverse denoising completed.\n",
      "Frames to plot: [1, 2, 3, 4, 5, 6, 7, 8, 9, 10, 11, 12, 13, 14, 15, 16, 17, 18, 19, 20, 21, 22, 23, 24, 25, 26, 27, 28, 29, 30, 31, 32, 33, 34, 35, 36, 37, 38, 39, 40, 41, 42, 43, 44, 45, 46, 47, 48, 49, 0, 50, 100, 150, 200, 250, 300, 350, 400, 450, 500, 550, 600, 650, 700, 750, 800, 850, 900, 950, 1000, 1050, 1100, 1150, 1200, 1250, 1300, 1350, 1400, 1450, 1500, 1550, 1600, 1650, 1700, 1750, 1800, 1850, 1900, 1950, 2000, 2050, 2100, 2150, 2200, 2250, 2300, 2350, 2400, 2450, 2500, 2550, 2600, 2650, 2700, 2750, 2800, 2850, 2900, 2950, 3000, 3050, 3100, 3150, 3200, 3250, 3300, 3350, 3400, 3450, 3500, 3550, 3600, 3650, 3700, 3750, 3800, 3850, 3900, 3950, 4000, 4050, 4100, 4150, 4200, 4250, 4300, 4350, 4400, 4450, 4500, 4550, 4600, 4650, 4700, 4750, 4800, 4850, 4900, 4950, 4950, 4951, 4952, 4953, 4954, 4955, 4956, 4957, 4958, 4959, 4960, 4961, 4962, 4963, 4964, 4965, 4966, 4967, 4968, 4969, 4970, 4971, 4972, 4973, 4974, 4975, 4976, 4977, 4978, 4979, 4980, 4981, 4982, 4983, 4984, 4985, 4986, 4987, 4988, 4989, 4990, 4991, 4992, 4993, 4994, 4995, 4996, 4997, 4998]\n"
     ]
    },
    {
     "name": "stderr",
     "output_type": "stream",
     "text": [
      "MovieWriter imagemagick unavailable; using Pillow instead.\n",
      "/tmp/ipykernel_1501/286780614.py:42: RuntimeWarning: overflow encountered in divide\n",
      "  return np.sum(p_true * np.log(p_true / p_approx))\n",
      "/tmp/ipykernel_1501/286780614.py:42: RuntimeWarning: divide by zero encountered in divide\n",
      "  return np.sum(p_true * np.log(p_true / p_approx))\n",
      "MovieWriter imagemagick unavailable; using Pillow instead.\n"
     ]
    },
    {
     "name": "stdout",
     "output_type": "stream",
     "text": [
      "Forward diffusion animation saved.\n"
     ]
    },
    {
     "name": "stderr",
     "output_type": "stream",
     "text": [
      "/tmp/ipykernel_1501/286780614.py:42: RuntimeWarning: overflow encountered in divide\n",
      "  return np.sum(p_true * np.log(p_true / p_approx))\n",
      "/tmp/ipykernel_1501/286780614.py:42: RuntimeWarning: divide by zero encountered in divide\n",
      "  return np.sum(p_true * np.log(p_true / p_approx))\n"
     ]
    },
    {
     "name": "stdout",
     "output_type": "stream",
     "text": [
      "Reverse denoising animation saved.\n"
     ]
    }
   ],
   "source": [
    "import torch\n",
    "import matplotlib.pyplot as plt\n",
    "import numpy as np\n",
    "import matplotlib.animation as animation\n",
    "from tqdm import tqdm\n",
    "from scipy.stats import gaussian_kde\n",
    "import os\n",
    "\n",
    "torch.manual_seed(42)\n",
    "\n",
    "# Parameters for different Gaussian distributions\n",
    "num_samples = 1000\n",
    "mean_1, std_1 = 0, 1\n",
    "mean_2, std_2 = 5, 2\n",
    "mean_3, std_3 = -3, 0.5\n",
    "\n",
    "# Generate random samples\n",
    "gaussian_data_1 = torch.normal(mean_1, std_1, size=(num_samples,))\n",
    "gaussian_data_2 = torch.normal(mean_2, std_2, size=(num_samples,))\n",
    "gaussian_data_3 = torch.normal(mean_3, std_3, size=(num_samples,))\n",
    "x_0 = torch.cat([gaussian_data_1, gaussian_data_2, gaussian_data_3])\n",
    "\n",
    "# Beta scheduler functions\n",
    "def linear_beta_schedule(T, beta_min, beta_max):\n",
    "    return torch.linspace(beta_min, beta_max, T)\n",
    "\n",
    "def constant_beta_schedule(T, beta_value):\n",
    "    return torch.full((T,), beta_value)\n",
    "\n",
    "def exponential_beta_schedule(T, beta_min, beta_max):\n",
    "    return torch.exp(torch.linspace(torch.log(torch.tensor(beta_min)), torch.log(torch.tensor(beta_max)), T))\n",
    "\n",
    "# KL divergence calculation function\n",
    "def calculate_kl_divergence(true_dist, approx_dist):\n",
    "    kde_true = gaussian_kde(true_dist, bw_method='silverman')\n",
    "    kde_approx = gaussian_kde(approx_dist, bw_method='silverman')\n",
    "    x_grid = np.linspace(min(true_dist.min(), approx_dist.min()), max(true_dist.max(), approx_dist.max()), 1000)\n",
    "    p_true = kde_true(x_grid)\n",
    "    p_approx = kde_approx(x_grid)\n",
    "    p_true = p_true / np.sum(p_true)\n",
    "    p_approx = p_approx / np.sum(p_approx)\n",
    "    return np.sum(p_true * np.log(p_true / p_approx))\n",
    "\n",
    "# Forward diffusion function\n",
    "def forward_diffusion(x_0, betas, T):\n",
    "    sqrt_one_minus_betas = torch.sqrt(1 - betas)\n",
    "    sqrt_betas = torch.sqrt(betas)\n",
    "    x_t = x_0.clone()\n",
    "    trajectory = [x_t]\n",
    "    for t in range(T):\n",
    "        noise = torch.randn_like(x_t)\n",
    "        x_t = sqrt_one_minus_betas[t] * x_t + sqrt_betas[t] * noise\n",
    "        trajectory.append(x_t)\n",
    "    return trajectory\n",
    "\n",
    "# Reverse denoising function\n",
    "def reverse_denoising2(trajectory, betas, T, min_beta_tilde=1e-4, noise_floor=1e-4):\n",
    "    alphas = 1 - betas\n",
    "    alpha_bar = torch.cumprod(alphas, dim=0)\n",
    "    xt = trajectory[-1]\n",
    "    reverse_trajectory = [xt]\n",
    "    x_0_trajectory = trajectory[0]\n",
    "    for t in tqdm(reversed(range(1, T))):\n",
    "        alpha_bar_t_1 = alpha_bar[t - 1]\n",
    "        alpha_bar_t = alpha_bar[t]\n",
    "        beta_t = betas[t - 1]\n",
    "        sqrt_alpha_bar_t_1 = torch.sqrt(alpha_bar_t_1)\n",
    "        sqrt_alpha_bar_t = torch.sqrt(alpha_bar_t)\n",
    "        one_minus_alpha_bar_t = 1 - alpha_bar_t\n",
    "        one_minus_alpha_bar_t_1 = 1 - alpha_bar_t_1\n",
    "        mu_t = (sqrt_alpha_bar_t_1 / one_minus_alpha_bar_t) * beta_t * x_0 + (torch.sqrt(alphas)[t] * one_minus_alpha_bar_t_1 / one_minus_alpha_bar_t) * xt\n",
    "        # beta_t_tilde = torch.maximum((1 - alpha_bar_t_1) / (1 - alpha_bar_t) * beta_t, torch.tensor(min_beta_tilde))\n",
    "        beta_t_tilde = (1 - alpha_bar_t_1) / (1 - alpha_bar_t) * beta_t\n",
    "        noise = torch.randn_like(xt) * torch.sqrt(beta_t_tilde + noise_floor)\n",
    "        # print('----------')\n",
    "        # print('t:', t)\n",
    "        # print(f'beta_t_tilde: {beta_t_tilde}')\n",
    "        # print(f' nosie : {noise}')\n",
    "        # print(f'mu_t: {mu_t}')\n",
    "        # print(f' xt: {xt}')\n",
    "        # print(f' x_0: {x_0}')\n",
    "        # print(f' coeff x0: {(sqrt_alpha_bar_t_1 / one_minus_alpha_bar_t) * beta_t }')\n",
    "        # print(f'      sqrt_alpha_bar_t_1: {sqrt_alpha_bar_t_1}')\n",
    "        # print(f'      one_minus_alpha_bar_t: {one_minus_alpha_bar_t}')\n",
    "        # print(f'      beta_t: {beta_t}')\n",
    "        # print(f' coeff xt: {(torch.sqrt(alphas)[t] * one_minus_alpha_bar_t_1 / one_minus_alpha_bar_t)}')\n",
    "        # print(f'      sqrt(alphas)[t]: {torch.sqrt(alphas)[t]}')\n",
    "        # print(f'      one_minus_alpha_bar_t_1: {one_minus_alpha_bar_t_1}')\n",
    "        # print(f'      one_minus_alpha_bar_t: {one_minus_alpha_bar_t}')\n",
    "        # print(f'----------------------')\n",
    "        xt = mu_t + noise\n",
    "        reverse_trajectory.append(xt)\n",
    "    return reverse_trajectory\n",
    "\n",
    "# Update function for the forward diffusion plot\n",
    "def update_plot1(frame, trajectory, x_0, ax):\n",
    "    ax.clear()\n",
    "    kl_divergence = calculate_kl_divergence(x_0.numpy(), trajectory[frame].numpy())\n",
    "    ax.hist(trajectory[frame].numpy(), bins=50, density=True, alpha=0.6, label=f\"KL Divergence: {kl_divergence:.4f}\")\n",
    "    ax.hist(x_0.numpy(), bins=50, density=True, alpha=0.2, color='gray', label=\"Original Distribution\")\n",
    "    ax.set_title(f\"q(x{frame}) - KL Divergence: {kl_divergence:.4f}\")\n",
    "    ax.set_xlim(-10, 10)\n",
    "    ax.set_ylim(0, 0.4)\n",
    "    ax.set_xlabel('x')\n",
    "    ax.set_ylabel('Density')\n",
    "    ax.legend()\n",
    "\n",
    "# Update function for the reverse denoising plot\n",
    "def update_plot2(frame, reverse_trajectory, x_0, ax):\n",
    "    ax.clear()\n",
    "    kl_divergence = calculate_kl_divergence(x_0.numpy(), reverse_trajectory[frame].numpy())\n",
    "    ax.hist(reverse_trajectory[frame].numpy(), bins=50, density=True, alpha=0.6, label=f\"KL Divergence: {kl_divergence:.4f}\")\n",
    "    ax.hist(x_0.numpy(), bins=50, density=True, alpha=0.2, color='gray', label=\"Original Distribution\")\n",
    "    ax.set_title(f\"Reverse Step {T - frame} - KL Divergence: {kl_divergence:.4f}\")\n",
    "    ax.set_xlim(-10, 10)\n",
    "    ax.set_ylim(0, 0.4)\n",
    "    ax.set_xlabel('x')\n",
    "    ax.set_ylabel('Density')\n",
    "    ax.legend()\n",
    "\n",
    "# Main function to run experiments\n",
    "def run_experiment(T, beta_scheduler, beta_params, result_folder, scheduler_name):\n",
    "    os.makedirs(result_folder, exist_ok=True)\n",
    "    \n",
    "    if beta_scheduler == \"linear\":\n",
    "        betas = linear_beta_schedule(T, **beta_params)\n",
    "        beta_info=f'beta_range_{beta_params[\"beta_min\"]}_{beta_params[\"beta_max\"]}'\n",
    "    elif beta_scheduler == \"constant\":\n",
    "        betas = constant_beta_schedule(T, **beta_params)\n",
    "        beta_info=f'beta_{beta_params[\"beta_value\"]}'\n",
    "    elif beta_scheduler == \"exponential\":\n",
    "        betas = exponential_beta_schedule(T, **beta_params)\n",
    "        beta_info=f'beta_range_{beta_params[\"beta_min\"]}_{beta_params[\"beta_max\"]}'\n",
    "    else:\n",
    "        raise ValueError(\"Invalid beta scheduler\")\n",
    "\n",
    "    trajectory = forward_diffusion(x_0, betas, T)\n",
    "    print(\"Forward process completed. Running reverse denoising...\")\n",
    "    reverse_trajectory = reverse_denoising2(trajectory, betas, T)\n",
    "    print(\"Reverse denoising completed.\")\n",
    "    frames_to_plot = range(0, T, max(1, T // 100))\n",
    "    #make sure the last and first 10 frames are included with no step_size\n",
    "    frames_to_plot =  list(range(1, T // 100))+ list(frames_to_plot) + list(range(T-T // 100, T-1)) \n",
    "    print(f\"Frames to plot: {frames_to_plot}\")\n",
    "     # Calculate the interval for 5 seconds\n",
    "    total_duration = 5000  # 5 seconds in milliseconds\n",
    "    interval = total_duration / T  # Time between frames in milliseconds\n",
    "    \n",
    "    # Forward diffusion animation\n",
    "    fig, ax = plt.subplots(figsize=(6, 4))\n",
    "    ani = animation.FuncAnimation(fig, update_plot1, frames=frames_to_plot, interval=interval, repeat=False, fargs=(trajectory, x_0, ax))\n",
    "    ani.save(os.path.join(result_folder, f'forward_{scheduler_name}_timesteps_{T}_beta_{beta_info}.gif'), writer='imagemagick')\n",
    "    plt.close(fig)\n",
    "    print(\"Forward diffusion animation saved.\")\n",
    "    \n",
    "    # Reverse denoising animation\n",
    "    fig, ax = plt.subplots(figsize=(6, 4))\n",
    "    ani = animation.FuncAnimation(fig, update_plot2, frames=frames_to_plot, interval=interval, repeat=False, fargs=(reverse_trajectory, x_0, ax))\n",
    "    ani.save(os.path.join(result_folder, f'reverse_diffusion_scheduler_{scheduler_name}_timesteps_{T}_beta_{beta_info}.gif'), writer='imagemagick')\n",
    "    plt.close(fig)\n",
    "    print(\"Reverse denoising animation saved.\")\n",
    "\n",
    "# Example usage\n",
    "T = 5000\n",
    "result_folder = \"results\"\n",
    "run_experiment(T, \"linear\", {\"beta_min\": 0.0001, \"beta_max\": 0.1}, result_folder, \"linear\")\n",
    "# run_experiment(T, \"constant\", {\"beta_value\": 0.01}, result_folder, \"constant\")\n",
    "# run_experiment(T, \"exponential\", {\"beta_min\": 0.0001, \"beta_max\": 0.1}, result_folder, \"exponential\")\n"
   ]
  },
  {
   "cell_type": "code",
   "execution_count": 9,
   "metadata": {},
   "outputs": [
    {
     "name": "stdout",
     "output_type": "stream",
     "text": [
      "Forward process completed. Running reverse denoising...\n"
     ]
    },
    {
     "name": "stderr",
     "output_type": "stream",
     "text": [
      "0it [00:00, ?it/s]"
     ]
    },
    {
     "name": "stderr",
     "output_type": "stream",
     "text": [
      "499it [00:00, 3666.38it/s]"
     ]
    },
    {
     "name": "stdout",
     "output_type": "stream",
     "text": [
      "Reverse denoising completed.\n",
      "Frames to plot: [1, 2, 3, 4, 0, 5, 10, 15, 20, 25, 30, 35, 40, 45, 50, 55, 60, 65, 70, 75, 80, 85, 90, 95, 100, 105, 110, 115, 120, 125, 130, 135, 140, 145, 150, 155, 160, 165, 170, 175, 180, 185, 190, 195, 200, 205, 210, 215, 220, 225, 230, 235, 240, 245, 250, 255, 260, 265, 270, 275, 280, 285, 290, 295, 300, 305, 310, 315, 320, 325, 330, 335, 340, 345, 350, 355, 360, 365, 370, 375, 380, 385, 390, 395, 400, 405, 410, 415, 420, 425, 430, 435, 440, 445, 450, 455, 460, 465, 470, 475, 480, 485, 490, 495, 495, 496, 497, 498]\n"
     ]
    },
    {
     "name": "stderr",
     "output_type": "stream",
     "text": [
      "\n",
      "MovieWriter imagemagick unavailable; using Pillow instead.\n",
      "/tmp/ipykernel_213388/3996909593.py:42: RuntimeWarning: overflow encountered in divide\n",
      "  return np.sum(p_true * np.log(p_true / p_approx))\n",
      "/tmp/ipykernel_213388/3996909593.py:42: RuntimeWarning: divide by zero encountered in divide\n",
      "  return np.sum(p_true * np.log(p_true / p_approx))\n",
      "MovieWriter imagemagick unavailable; using Pillow instead.\n"
     ]
    },
    {
     "name": "stdout",
     "output_type": "stream",
     "text": [
      "Forward diffusion animation saved.\n"
     ]
    },
    {
     "name": "stderr",
     "output_type": "stream",
     "text": [
      "/tmp/ipykernel_213388/3996909593.py:42: RuntimeWarning: divide by zero encountered in divide\n",
      "  return np.sum(p_true * np.log(p_true / p_approx))\n",
      "/tmp/ipykernel_213388/3996909593.py:42: RuntimeWarning: overflow encountered in divide\n",
      "  return np.sum(p_true * np.log(p_true / p_approx))\n"
     ]
    },
    {
     "name": "stdout",
     "output_type": "stream",
     "text": [
      "Reverse denoising animation saved.\n",
      "Forward process completed. Running reverse denoising...\n"
     ]
    },
    {
     "name": "stderr",
     "output_type": "stream",
     "text": [
      "499it [00:00, 5333.22it/s]"
     ]
    },
    {
     "name": "stdout",
     "output_type": "stream",
     "text": [
      "Reverse denoising completed.\n",
      "Frames to plot: [1, 2, 3, 4, 0, 5, 10, 15, 20, 25, 30, 35, 40, 45, 50, 55, 60, 65, 70, 75, 80, 85, 90, 95, 100, 105, 110, 115, 120, 125, 130, 135, 140, 145, 150, 155, 160, 165, 170, 175, 180, 185, 190, 195, 200, 205, 210, 215, 220, 225, 230, 235, 240, 245, 250, 255, 260, 265, 270, 275, 280, 285, 290, 295, 300, 305, 310, 315, 320, 325, 330, 335, 340, 345, 350, 355, 360, 365, 370, 375, 380, 385, 390, 395, 400, 405, 410, 415, 420, 425, 430, 435, 440, 445, 450, 455, 460, 465, 470, 475, 480, 485, 490, 495, 495, 496, 497, 498]\n"
     ]
    },
    {
     "name": "stderr",
     "output_type": "stream",
     "text": [
      "\n",
      "MovieWriter imagemagick unavailable; using Pillow instead.\n",
      "MovieWriter imagemagick unavailable; using Pillow instead.\n"
     ]
    },
    {
     "name": "stdout",
     "output_type": "stream",
     "text": [
      "Forward diffusion animation saved.\n",
      "Reverse denoising animation saved.\n",
      "Forward process completed. Running reverse denoising...\n"
     ]
    },
    {
     "name": "stderr",
     "output_type": "stream",
     "text": [
      "499it [00:00, 4703.09it/s]"
     ]
    },
    {
     "name": "stdout",
     "output_type": "stream",
     "text": [
      "Reverse denoising completed.\n",
      "Frames to plot: [1, 2, 3, 4, 0, 5, 10, 15, 20, 25, 30, 35, 40, 45, 50, 55, 60, 65, 70, 75, 80, 85, 90, 95, 100, 105, 110, 115, 120, 125, 130, 135, 140, 145, 150, 155, 160, 165, 170, 175, 180, 185, 190, 195, 200, 205, 210, 215, 220, 225, 230, 235, 240, 245, 250, 255, 260, 265, 270, 275, 280, 285, 290, 295, 300, 305, 310, 315, 320, 325, 330, 335, 340, 345, 350, 355, 360, 365, 370, 375, 380, 385, 390, 395, 400, 405, 410, 415, 420, 425, 430, 435, 440, 445, 450, 455, 460, 465, 470, 475, 480, 485, 490, 495, 495, 496, 497, 498]\n"
     ]
    },
    {
     "name": "stderr",
     "output_type": "stream",
     "text": [
      "\n",
      "MovieWriter imagemagick unavailable; using Pillow instead.\n",
      "/tmp/ipykernel_213388/3996909593.py:42: RuntimeWarning: divide by zero encountered in divide\n",
      "  return np.sum(p_true * np.log(p_true / p_approx))\n",
      "/tmp/ipykernel_213388/3996909593.py:42: RuntimeWarning: overflow encountered in divide\n",
      "  return np.sum(p_true * np.log(p_true / p_approx))\n",
      "MovieWriter imagemagick unavailable; using Pillow instead.\n"
     ]
    },
    {
     "name": "stdout",
     "output_type": "stream",
     "text": [
      "Forward diffusion animation saved.\n"
     ]
    },
    {
     "name": "stderr",
     "output_type": "stream",
     "text": [
      "/tmp/ipykernel_213388/3996909593.py:42: RuntimeWarning: overflow encountered in divide\n",
      "  return np.sum(p_true * np.log(p_true / p_approx))\n"
     ]
    },
    {
     "name": "stdout",
     "output_type": "stream",
     "text": [
      "Reverse denoising animation saved.\n",
      "Forward process completed. Running reverse denoising...\n"
     ]
    },
    {
     "name": "stderr",
     "output_type": "stream",
     "text": [
      "99it [00:00, 4558.73it/s]\n",
      "MovieWriter imagemagick unavailable; using Pillow instead.\n"
     ]
    },
    {
     "name": "stdout",
     "output_type": "stream",
     "text": [
      "Reverse denoising completed.\n",
      "Frames to plot: [0, 1, 2, 3, 4, 5, 6, 7, 8, 9, 10, 11, 12, 13, 14, 15, 16, 17, 18, 19, 20, 21, 22, 23, 24, 25, 26, 27, 28, 29, 30, 31, 32, 33, 34, 35, 36, 37, 38, 39, 40, 41, 42, 43, 44, 45, 46, 47, 48, 49, 50, 51, 52, 53, 54, 55, 56, 57, 58, 59, 60, 61, 62, 63, 64, 65, 66, 67, 68, 69, 70, 71, 72, 73, 74, 75, 76, 77, 78, 79, 80, 81, 82, 83, 84, 85, 86, 87, 88, 89, 90, 91, 92, 93, 94, 95, 96, 97, 98, 99]\n"
     ]
    },
    {
     "name": "stderr",
     "output_type": "stream",
     "text": [
      "MovieWriter imagemagick unavailable; using Pillow instead.\n"
     ]
    },
    {
     "name": "stdout",
     "output_type": "stream",
     "text": [
      "Forward diffusion animation saved.\n"
     ]
    },
    {
     "name": "stderr",
     "output_type": "stream",
     "text": [
      "/tmp/ipykernel_213388/3996909593.py:42: RuntimeWarning: divide by zero encountered in divide\n",
      "  return np.sum(p_true * np.log(p_true / p_approx))\n",
      "/tmp/ipykernel_213388/3996909593.py:42: RuntimeWarning: overflow encountered in divide\n",
      "  return np.sum(p_true * np.log(p_true / p_approx))\n"
     ]
    },
    {
     "name": "stdout",
     "output_type": "stream",
     "text": [
      "Reverse denoising animation saved.\n",
      "Forward process completed. Running reverse denoising...\n"
     ]
    },
    {
     "name": "stderr",
     "output_type": "stream",
     "text": [
      "99it [00:00, 2980.96it/s]\n",
      "MovieWriter imagemagick unavailable; using Pillow instead.\n"
     ]
    },
    {
     "name": "stdout",
     "output_type": "stream",
     "text": [
      "Reverse denoising completed.\n",
      "Frames to plot: [0, 1, 2, 3, 4, 5, 6, 7, 8, 9, 10, 11, 12, 13, 14, 15, 16, 17, 18, 19, 20, 21, 22, 23, 24, 25, 26, 27, 28, 29, 30, 31, 32, 33, 34, 35, 36, 37, 38, 39, 40, 41, 42, 43, 44, 45, 46, 47, 48, 49, 50, 51, 52, 53, 54, 55, 56, 57, 58, 59, 60, 61, 62, 63, 64, 65, 66, 67, 68, 69, 70, 71, 72, 73, 74, 75, 76, 77, 78, 79, 80, 81, 82, 83, 84, 85, 86, 87, 88, 89, 90, 91, 92, 93, 94, 95, 96, 97, 98, 99]\n"
     ]
    },
    {
     "name": "stderr",
     "output_type": "stream",
     "text": [
      "MovieWriter imagemagick unavailable; using Pillow instead.\n"
     ]
    },
    {
     "name": "stdout",
     "output_type": "stream",
     "text": [
      "Forward diffusion animation saved.\n",
      "Reverse denoising animation saved.\n",
      "Forward process completed. Running reverse denoising...\n"
     ]
    },
    {
     "name": "stderr",
     "output_type": "stream",
     "text": [
      "99it [00:00, 4646.62it/s]\n",
      "MovieWriter imagemagick unavailable; using Pillow instead.\n"
     ]
    },
    {
     "name": "stdout",
     "output_type": "stream",
     "text": [
      "Reverse denoising completed.\n",
      "Frames to plot: [0, 1, 2, 3, 4, 5, 6, 7, 8, 9, 10, 11, 12, 13, 14, 15, 16, 17, 18, 19, 20, 21, 22, 23, 24, 25, 26, 27, 28, 29, 30, 31, 32, 33, 34, 35, 36, 37, 38, 39, 40, 41, 42, 43, 44, 45, 46, 47, 48, 49, 50, 51, 52, 53, 54, 55, 56, 57, 58, 59, 60, 61, 62, 63, 64, 65, 66, 67, 68, 69, 70, 71, 72, 73, 74, 75, 76, 77, 78, 79, 80, 81, 82, 83, 84, 85, 86, 87, 88, 89, 90, 91, 92, 93, 94, 95, 96, 97, 98, 99]\n"
     ]
    },
    {
     "name": "stderr",
     "output_type": "stream",
     "text": [
      "MovieWriter imagemagick unavailable; using Pillow instead.\n"
     ]
    },
    {
     "name": "stdout",
     "output_type": "stream",
     "text": [
      "Forward diffusion animation saved.\n",
      "Reverse denoising animation saved.\n"
     ]
    }
   ],
   "source": [
    "T = 500\n",
    "result_folder = \"results\"\n",
    "run_experiment(T, \"linear\", {\"beta_min\": 0.0001, \"beta_max\": 0.1}, result_folder, \"linear\")\n",
    "run_experiment(T, \"constant\", {\"beta_value\": 0.01}, result_folder, \"constant\")\n",
    "run_experiment(T, \"exponential\", {\"beta_min\": 0.0001, \"beta_max\": 0.1}, result_folder, \"exponential\")\n",
    "\n",
    "T = 100\n",
    "result_folder = \"results\"\n",
    "run_experiment(T, \"linear\", {\"beta_min\": 0.0001, \"beta_max\": 0.1}, result_folder, \"linear\")\n",
    "run_experiment(T, \"constant\", {\"beta_value\": 0.01}, result_folder, \"constant\")\n",
    "run_experiment(T, \"exponential\", {\"beta_min\": 0.0001, \"beta_max\": 0.1}, result_folder, \"exponential\")"
   ]
  },
  {
   "cell_type": "code",
   "execution_count": 10,
   "metadata": {},
   "outputs": [
    {
     "name": "stdout",
     "output_type": "stream",
     "text": [
      "Forward process completed. Running reverse denoising...\n"
     ]
    },
    {
     "name": "stderr",
     "output_type": "stream",
     "text": [
      "19it [00:00, 5862.71it/s]\n",
      "MovieWriter imagemagick unavailable; using Pillow instead.\n"
     ]
    },
    {
     "name": "stdout",
     "output_type": "stream",
     "text": [
      "Reverse denoising completed.\n",
      "Frames to plot: [0, 1, 2, 3, 4, 5, 6, 7, 8, 9, 10, 11, 12, 13, 14, 15, 16, 17, 18, 19]\n"
     ]
    },
    {
     "name": "stderr",
     "output_type": "stream",
     "text": [
      "/tmp/ipykernel_213388/3996909593.py:42: RuntimeWarning: divide by zero encountered in divide\n",
      "  return np.sum(p_true * np.log(p_true / p_approx))\n",
      "/tmp/ipykernel_213388/3996909593.py:42: RuntimeWarning: overflow encountered in divide\n",
      "  return np.sum(p_true * np.log(p_true / p_approx))\n",
      "MovieWriter imagemagick unavailable; using Pillow instead.\n"
     ]
    },
    {
     "name": "stdout",
     "output_type": "stream",
     "text": [
      "Forward diffusion animation saved.\n"
     ]
    },
    {
     "name": "stderr",
     "output_type": "stream",
     "text": [
      "/tmp/ipykernel_213388/3996909593.py:42: RuntimeWarning: divide by zero encountered in divide\n",
      "  return np.sum(p_true * np.log(p_true / p_approx))\n",
      "/tmp/ipykernel_213388/3996909593.py:42: RuntimeWarning: overflow encountered in divide\n",
      "  return np.sum(p_true * np.log(p_true / p_approx))\n"
     ]
    },
    {
     "name": "stdout",
     "output_type": "stream",
     "text": [
      "Reverse denoising animation saved.\n",
      "Forward process completed. Running reverse denoising...\n"
     ]
    },
    {
     "name": "stderr",
     "output_type": "stream",
     "text": [
      "19it [00:00, 4833.61it/s]\n",
      "MovieWriter imagemagick unavailable; using Pillow instead.\n"
     ]
    },
    {
     "name": "stdout",
     "output_type": "stream",
     "text": [
      "Reverse denoising completed.\n",
      "Frames to plot: [0, 1, 2, 3, 4, 5, 6, 7, 8, 9, 10, 11, 12, 13, 14, 15, 16, 17, 18, 19]\n"
     ]
    },
    {
     "name": "stderr",
     "output_type": "stream",
     "text": [
      "MovieWriter imagemagick unavailable; using Pillow instead.\n"
     ]
    },
    {
     "name": "stdout",
     "output_type": "stream",
     "text": [
      "Forward diffusion animation saved.\n",
      "Reverse denoising animation saved.\n",
      "Forward process completed. Running reverse denoising...\n"
     ]
    },
    {
     "name": "stderr",
     "output_type": "stream",
     "text": [
      "19it [00:00, 3542.01it/s]\n",
      "MovieWriter imagemagick unavailable; using Pillow instead.\n"
     ]
    },
    {
     "name": "stdout",
     "output_type": "stream",
     "text": [
      "Reverse denoising completed.\n",
      "Frames to plot: [0, 1, 2, 3, 4, 5, 6, 7, 8, 9, 10, 11, 12, 13, 14, 15, 16, 17, 18, 19]\n"
     ]
    },
    {
     "name": "stderr",
     "output_type": "stream",
     "text": [
      "MovieWriter imagemagick unavailable; using Pillow instead.\n"
     ]
    },
    {
     "name": "stdout",
     "output_type": "stream",
     "text": [
      "Forward diffusion animation saved.\n",
      "Reverse denoising animation saved.\n",
      "Forward process completed. Running reverse denoising...\n"
     ]
    },
    {
     "name": "stderr",
     "output_type": "stream",
     "text": [
      "9it [00:00, 3744.54it/s]\n",
      "MovieWriter imagemagick unavailable; using Pillow instead.\n"
     ]
    },
    {
     "name": "stdout",
     "output_type": "stream",
     "text": [
      "Reverse denoising completed.\n",
      "Frames to plot: [0, 1, 2, 3, 4, 5, 6, 7, 8, 9]\n"
     ]
    },
    {
     "name": "stderr",
     "output_type": "stream",
     "text": [
      "MovieWriter imagemagick unavailable; using Pillow instead.\n"
     ]
    },
    {
     "name": "stdout",
     "output_type": "stream",
     "text": [
      "Forward diffusion animation saved.\n"
     ]
    },
    {
     "name": "stderr",
     "output_type": "stream",
     "text": [
      "/tmp/ipykernel_213388/3996909593.py:42: RuntimeWarning: divide by zero encountered in divide\n",
      "  return np.sum(p_true * np.log(p_true / p_approx))\n"
     ]
    },
    {
     "name": "stdout",
     "output_type": "stream",
     "text": [
      "Reverse denoising animation saved.\n",
      "Forward process completed. Running reverse denoising...\n"
     ]
    },
    {
     "name": "stderr",
     "output_type": "stream",
     "text": [
      "9it [00:00, 3764.71it/s]\n",
      "MovieWriter imagemagick unavailable; using Pillow instead.\n"
     ]
    },
    {
     "name": "stdout",
     "output_type": "stream",
     "text": [
      "Reverse denoising completed.\n",
      "Frames to plot: [0, 1, 2, 3, 4, 5, 6, 7, 8, 9]\n"
     ]
    },
    {
     "name": "stderr",
     "output_type": "stream",
     "text": [
      "MovieWriter imagemagick unavailable; using Pillow instead.\n"
     ]
    },
    {
     "name": "stdout",
     "output_type": "stream",
     "text": [
      "Forward diffusion animation saved.\n",
      "Reverse denoising animation saved.\n",
      "Forward process completed. Running reverse denoising...\n"
     ]
    },
    {
     "name": "stderr",
     "output_type": "stream",
     "text": [
      "9it [00:00, 3630.38it/s]\n",
      "MovieWriter imagemagick unavailable; using Pillow instead.\n"
     ]
    },
    {
     "name": "stdout",
     "output_type": "stream",
     "text": [
      "Reverse denoising completed.\n",
      "Frames to plot: [0, 1, 2, 3, 4, 5, 6, 7, 8, 9]\n"
     ]
    },
    {
     "name": "stderr",
     "output_type": "stream",
     "text": [
      "MovieWriter imagemagick unavailable; using Pillow instead.\n"
     ]
    },
    {
     "name": "stdout",
     "output_type": "stream",
     "text": [
      "Forward diffusion animation saved.\n",
      "Reverse denoising animation saved.\n",
      "Forward process completed. Running reverse denoising...\n"
     ]
    },
    {
     "name": "stderr",
     "output_type": "stream",
     "text": [
      "49it [00:00, 6179.78it/s]\n",
      "MovieWriter imagemagick unavailable; using Pillow instead.\n"
     ]
    },
    {
     "name": "stdout",
     "output_type": "stream",
     "text": [
      "Reverse denoising completed.\n",
      "Frames to plot: [0, 1, 2, 3, 4, 5, 6, 7, 8, 9, 10, 11, 12, 13, 14, 15, 16, 17, 18, 19, 20, 21, 22, 23, 24, 25, 26, 27, 28, 29, 30, 31, 32, 33, 34, 35, 36, 37, 38, 39, 40, 41, 42, 43, 44, 45, 46, 47, 48, 49]\n"
     ]
    },
    {
     "name": "stderr",
     "output_type": "stream",
     "text": [
      "/tmp/ipykernel_213388/3996909593.py:42: RuntimeWarning: divide by zero encountered in divide\n",
      "  return np.sum(p_true * np.log(p_true / p_approx))\n",
      "/tmp/ipykernel_213388/3996909593.py:42: RuntimeWarning: overflow encountered in divide\n",
      "  return np.sum(p_true * np.log(p_true / p_approx))\n",
      "MovieWriter imagemagick unavailable; using Pillow instead.\n"
     ]
    },
    {
     "name": "stdout",
     "output_type": "stream",
     "text": [
      "Forward diffusion animation saved.\n"
     ]
    },
    {
     "name": "stderr",
     "output_type": "stream",
     "text": [
      "/tmp/ipykernel_213388/3996909593.py:42: RuntimeWarning: overflow encountered in divide\n",
      "  return np.sum(p_true * np.log(p_true / p_approx))\n",
      "/tmp/ipykernel_213388/3996909593.py:42: RuntimeWarning: divide by zero encountered in divide\n",
      "  return np.sum(p_true * np.log(p_true / p_approx))\n"
     ]
    },
    {
     "name": "stdout",
     "output_type": "stream",
     "text": [
      "Reverse denoising animation saved.\n",
      "Forward process completed. Running reverse denoising...\n"
     ]
    },
    {
     "name": "stderr",
     "output_type": "stream",
     "text": [
      "49it [00:00, 6324.30it/s]\n",
      "MovieWriter imagemagick unavailable; using Pillow instead.\n"
     ]
    },
    {
     "name": "stdout",
     "output_type": "stream",
     "text": [
      "Reverse denoising completed.\n",
      "Frames to plot: [0, 1, 2, 3, 4, 5, 6, 7, 8, 9, 10, 11, 12, 13, 14, 15, 16, 17, 18, 19, 20, 21, 22, 23, 24, 25, 26, 27, 28, 29, 30, 31, 32, 33, 34, 35, 36, 37, 38, 39, 40, 41, 42, 43, 44, 45, 46, 47, 48, 49]\n"
     ]
    },
    {
     "name": "stderr",
     "output_type": "stream",
     "text": [
      "MovieWriter imagemagick unavailable; using Pillow instead.\n"
     ]
    },
    {
     "name": "stdout",
     "output_type": "stream",
     "text": [
      "Forward diffusion animation saved.\n",
      "Reverse denoising animation saved.\n",
      "Forward process completed. Running reverse denoising...\n"
     ]
    },
    {
     "name": "stderr",
     "output_type": "stream",
     "text": [
      "49it [00:00, 6395.35it/s]\n",
      "MovieWriter imagemagick unavailable; using Pillow instead.\n"
     ]
    },
    {
     "name": "stdout",
     "output_type": "stream",
     "text": [
      "Reverse denoising completed.\n",
      "Frames to plot: [0, 1, 2, 3, 4, 5, 6, 7, 8, 9, 10, 11, 12, 13, 14, 15, 16, 17, 18, 19, 20, 21, 22, 23, 24, 25, 26, 27, 28, 29, 30, 31, 32, 33, 34, 35, 36, 37, 38, 39, 40, 41, 42, 43, 44, 45, 46, 47, 48, 49]\n"
     ]
    },
    {
     "name": "stderr",
     "output_type": "stream",
     "text": [
      "MovieWriter imagemagick unavailable; using Pillow instead.\n"
     ]
    },
    {
     "name": "stdout",
     "output_type": "stream",
     "text": [
      "Forward diffusion animation saved.\n",
      "Reverse denoising animation saved.\n"
     ]
    }
   ],
   "source": [
    "T = 20\n",
    "result_folder = \"results\"\n",
    "run_experiment(T, \"linear\", {\"beta_min\": 0.0001, \"beta_max\": 0.5}, result_folder, \"linear\")\n",
    "run_experiment(T, \"constant\", {\"beta_value\": 0.1}, result_folder, \"constant\")\n",
    "run_experiment(T, \"exponential\", {\"beta_min\": 0.0001, \"beta_max\": 0.5}, result_folder, \"exponential\")\n",
    "T = 10\n",
    "run_experiment(T, \"linear\", {\"beta_min\": 0.0001, \"beta_max\": 0.5}, result_folder, \"linear\")\n",
    "run_experiment(T, \"constant\", {\"beta_value\": 0.1}, result_folder, \"constant\")\n",
    "run_experiment(T, \"exponential\", {\"beta_min\": 0.0001, \"beta_max\": 0.5}, result_folder, \"exponential\")\n",
    "T = 50\n",
    "run_experiment(T, \"linear\", {\"beta_min\": 0.0001, \"beta_max\": 0.5}, result_folder, \"linear\")\n",
    "run_experiment(T, \"constant\", {\"beta_value\": 0.1}, result_folder, \"constant\")\n",
    "run_experiment(T, \"exponential\", {\"beta_min\": 0.0001, \"beta_max\": 0.5}, result_folder, \"exponential\")\n"
   ]
  },
  {
   "cell_type": "code",
   "execution_count": 11,
   "metadata": {},
   "outputs": [
    {
     "name": "stdout",
     "output_type": "stream",
     "text": [
      "Forward process completed. Running reverse denoising...\n"
     ]
    },
    {
     "name": "stderr",
     "output_type": "stream",
     "text": [
      "99it [00:00, 5725.18it/s]\n",
      "MovieWriter imagemagick unavailable; using Pillow instead.\n"
     ]
    },
    {
     "name": "stdout",
     "output_type": "stream",
     "text": [
      "Reverse denoising completed.\n",
      "Frames to plot: [0, 1, 2, 3, 4, 5, 6, 7, 8, 9, 10, 11, 12, 13, 14, 15, 16, 17, 18, 19, 20, 21, 22, 23, 24, 25, 26, 27, 28, 29, 30, 31, 32, 33, 34, 35, 36, 37, 38, 39, 40, 41, 42, 43, 44, 45, 46, 47, 48, 49, 50, 51, 52, 53, 54, 55, 56, 57, 58, 59, 60, 61, 62, 63, 64, 65, 66, 67, 68, 69, 70, 71, 72, 73, 74, 75, 76, 77, 78, 79, 80, 81, 82, 83, 84, 85, 86, 87, 88, 89, 90, 91, 92, 93, 94, 95, 96, 97, 98, 99]\n"
     ]
    },
    {
     "name": "stderr",
     "output_type": "stream",
     "text": [
      "/tmp/ipykernel_213388/3996909593.py:42: RuntimeWarning: overflow encountered in divide\n",
      "  return np.sum(p_true * np.log(p_true / p_approx))\n",
      "/tmp/ipykernel_213388/3996909593.py:42: RuntimeWarning: divide by zero encountered in divide\n",
      "  return np.sum(p_true * np.log(p_true / p_approx))\n",
      "MovieWriter imagemagick unavailable; using Pillow instead.\n"
     ]
    },
    {
     "name": "stdout",
     "output_type": "stream",
     "text": [
      "Forward diffusion animation saved.\n"
     ]
    },
    {
     "name": "stderr",
     "output_type": "stream",
     "text": [
      "/tmp/ipykernel_213388/3996909593.py:42: RuntimeWarning: overflow encountered in divide\n",
      "  return np.sum(p_true * np.log(p_true / p_approx))\n",
      "/tmp/ipykernel_213388/3996909593.py:42: RuntimeWarning: divide by zero encountered in divide\n",
      "  return np.sum(p_true * np.log(p_true / p_approx))\n"
     ]
    },
    {
     "name": "stdout",
     "output_type": "stream",
     "text": [
      "Reverse denoising animation saved.\n",
      "Forward process completed. Running reverse denoising...\n"
     ]
    },
    {
     "name": "stderr",
     "output_type": "stream",
     "text": [
      "99it [00:00, 6090.92it/s]\n",
      "MovieWriter imagemagick unavailable; using Pillow instead.\n"
     ]
    },
    {
     "name": "stdout",
     "output_type": "stream",
     "text": [
      "Reverse denoising completed.\n",
      "Frames to plot: [0, 1, 2, 3, 4, 5, 6, 7, 8, 9, 10, 11, 12, 13, 14, 15, 16, 17, 18, 19, 20, 21, 22, 23, 24, 25, 26, 27, 28, 29, 30, 31, 32, 33, 34, 35, 36, 37, 38, 39, 40, 41, 42, 43, 44, 45, 46, 47, 48, 49, 50, 51, 52, 53, 54, 55, 56, 57, 58, 59, 60, 61, 62, 63, 64, 65, 66, 67, 68, 69, 70, 71, 72, 73, 74, 75, 76, 77, 78, 79, 80, 81, 82, 83, 84, 85, 86, 87, 88, 89, 90, 91, 92, 93, 94, 95, 96, 97, 98, 99]\n"
     ]
    },
    {
     "name": "stderr",
     "output_type": "stream",
     "text": [
      "/tmp/ipykernel_213388/3996909593.py:42: RuntimeWarning: divide by zero encountered in divide\n",
      "  return np.sum(p_true * np.log(p_true / p_approx))\n",
      "/tmp/ipykernel_213388/3996909593.py:42: RuntimeWarning: overflow encountered in divide\n",
      "  return np.sum(p_true * np.log(p_true / p_approx))\n",
      "MovieWriter imagemagick unavailable; using Pillow instead.\n"
     ]
    },
    {
     "name": "stdout",
     "output_type": "stream",
     "text": [
      "Forward diffusion animation saved.\n"
     ]
    },
    {
     "name": "stderr",
     "output_type": "stream",
     "text": [
      "/tmp/ipykernel_213388/3996909593.py:42: RuntimeWarning: divide by zero encountered in divide\n",
      "  return np.sum(p_true * np.log(p_true / p_approx))\n",
      "/tmp/ipykernel_213388/3996909593.py:42: RuntimeWarning: overflow encountered in divide\n",
      "  return np.sum(p_true * np.log(p_true / p_approx))\n"
     ]
    },
    {
     "name": "stdout",
     "output_type": "stream",
     "text": [
      "Reverse denoising animation saved.\n",
      "Forward process completed. Running reverse denoising...\n"
     ]
    },
    {
     "name": "stderr",
     "output_type": "stream",
     "text": [
      "99it [00:00, 6810.39it/s]\n",
      "MovieWriter imagemagick unavailable; using Pillow instead.\n"
     ]
    },
    {
     "name": "stdout",
     "output_type": "stream",
     "text": [
      "Reverse denoising completed.\n",
      "Frames to plot: [0, 1, 2, 3, 4, 5, 6, 7, 8, 9, 10, 11, 12, 13, 14, 15, 16, 17, 18, 19, 20, 21, 22, 23, 24, 25, 26, 27, 28, 29, 30, 31, 32, 33, 34, 35, 36, 37, 38, 39, 40, 41, 42, 43, 44, 45, 46, 47, 48, 49, 50, 51, 52, 53, 54, 55, 56, 57, 58, 59, 60, 61, 62, 63, 64, 65, 66, 67, 68, 69, 70, 71, 72, 73, 74, 75, 76, 77, 78, 79, 80, 81, 82, 83, 84, 85, 86, 87, 88, 89, 90, 91, 92, 93, 94, 95, 96, 97, 98, 99]\n"
     ]
    },
    {
     "name": "stderr",
     "output_type": "stream",
     "text": [
      "/tmp/ipykernel_213388/3996909593.py:42: RuntimeWarning: overflow encountered in divide\n",
      "  return np.sum(p_true * np.log(p_true / p_approx))\n",
      "/tmp/ipykernel_213388/3996909593.py:42: RuntimeWarning: divide by zero encountered in divide\n",
      "  return np.sum(p_true * np.log(p_true / p_approx))\n",
      "MovieWriter imagemagick unavailable; using Pillow instead.\n"
     ]
    },
    {
     "name": "stdout",
     "output_type": "stream",
     "text": [
      "Forward diffusion animation saved.\n"
     ]
    },
    {
     "name": "stderr",
     "output_type": "stream",
     "text": [
      "/tmp/ipykernel_213388/3996909593.py:42: RuntimeWarning: divide by zero encountered in divide\n",
      "  return np.sum(p_true * np.log(p_true / p_approx))\n",
      "/tmp/ipykernel_213388/3996909593.py:42: RuntimeWarning: overflow encountered in divide\n",
      "  return np.sum(p_true * np.log(p_true / p_approx))\n"
     ]
    },
    {
     "name": "stdout",
     "output_type": "stream",
     "text": [
      "Reverse denoising animation saved.\n",
      "Forward process completed. Running reverse denoising...\n"
     ]
    },
    {
     "name": "stderr",
     "output_type": "stream",
     "text": [
      "19it [00:00, 4469.53it/s]\n",
      "MovieWriter imagemagick unavailable; using Pillow instead.\n"
     ]
    },
    {
     "name": "stdout",
     "output_type": "stream",
     "text": [
      "Reverse denoising completed.\n",
      "Frames to plot: [0, 1, 2, 3, 4, 5, 6, 7, 8, 9, 10, 11, 12, 13, 14, 15, 16, 17, 18, 19]\n"
     ]
    },
    {
     "name": "stderr",
     "output_type": "stream",
     "text": [
      "MovieWriter imagemagick unavailable; using Pillow instead.\n"
     ]
    },
    {
     "name": "stdout",
     "output_type": "stream",
     "text": [
      "Forward diffusion animation saved.\n",
      "Reverse denoising animation saved.\n",
      "Forward process completed. Running reverse denoising...\n"
     ]
    },
    {
     "name": "stderr",
     "output_type": "stream",
     "text": [
      "19it [00:00, 4563.20it/s]\n",
      "MovieWriter imagemagick unavailable; using Pillow instead.\n"
     ]
    },
    {
     "name": "stdout",
     "output_type": "stream",
     "text": [
      "Reverse denoising completed.\n",
      "Frames to plot: [0, 1, 2, 3, 4, 5, 6, 7, 8, 9, 10, 11, 12, 13, 14, 15, 16, 17, 18, 19]\n"
     ]
    },
    {
     "name": "stderr",
     "output_type": "stream",
     "text": [
      "MovieWriter imagemagick unavailable; using Pillow instead.\n"
     ]
    },
    {
     "name": "stdout",
     "output_type": "stream",
     "text": [
      "Forward diffusion animation saved.\n",
      "Reverse denoising animation saved.\n",
      "Forward process completed. Running reverse denoising...\n"
     ]
    },
    {
     "name": "stderr",
     "output_type": "stream",
     "text": [
      "19it [00:00, 3966.34it/s]\n",
      "MovieWriter imagemagick unavailable; using Pillow instead.\n"
     ]
    },
    {
     "name": "stdout",
     "output_type": "stream",
     "text": [
      "Reverse denoising completed.\n",
      "Frames to plot: [0, 1, 2, 3, 4, 5, 6, 7, 8, 9, 10, 11, 12, 13, 14, 15, 16, 17, 18, 19]\n"
     ]
    },
    {
     "name": "stderr",
     "output_type": "stream",
     "text": [
      "MovieWriter imagemagick unavailable; using Pillow instead.\n"
     ]
    },
    {
     "name": "stdout",
     "output_type": "stream",
     "text": [
      "Forward diffusion animation saved.\n",
      "Reverse denoising animation saved.\n",
      "Forward process completed. Running reverse denoising...\n"
     ]
    },
    {
     "name": "stderr",
     "output_type": "stream",
     "text": [
      "9it [00:00, 2641.25it/s]\n",
      "MovieWriter imagemagick unavailable; using Pillow instead.\n"
     ]
    },
    {
     "name": "stdout",
     "output_type": "stream",
     "text": [
      "Reverse denoising completed.\n",
      "Frames to plot: [0, 1, 2, 3, 4, 5, 6, 7, 8, 9]\n"
     ]
    },
    {
     "name": "stderr",
     "output_type": "stream",
     "text": [
      "MovieWriter imagemagick unavailable; using Pillow instead.\n"
     ]
    },
    {
     "name": "stdout",
     "output_type": "stream",
     "text": [
      "Forward diffusion animation saved.\n"
     ]
    },
    {
     "name": "stderr",
     "output_type": "stream",
     "text": [
      "/tmp/ipykernel_213388/3996909593.py:42: RuntimeWarning: divide by zero encountered in divide\n",
      "  return np.sum(p_true * np.log(p_true / p_approx))\n",
      "/tmp/ipykernel_213388/3996909593.py:42: RuntimeWarning: overflow encountered in divide\n",
      "  return np.sum(p_true * np.log(p_true / p_approx))\n"
     ]
    },
    {
     "name": "stdout",
     "output_type": "stream",
     "text": [
      "Reverse denoising animation saved.\n",
      "Forward process completed. Running reverse denoising...\n"
     ]
    },
    {
     "name": "stderr",
     "output_type": "stream",
     "text": [
      "9it [00:00, 3600.95it/s]\n",
      "MovieWriter imagemagick unavailable; using Pillow instead.\n"
     ]
    },
    {
     "name": "stdout",
     "output_type": "stream",
     "text": [
      "Reverse denoising completed.\n",
      "Frames to plot: [0, 1, 2, 3, 4, 5, 6, 7, 8, 9]\n"
     ]
    },
    {
     "name": "stderr",
     "output_type": "stream",
     "text": [
      "MovieWriter imagemagick unavailable; using Pillow instead.\n"
     ]
    },
    {
     "name": "stdout",
     "output_type": "stream",
     "text": [
      "Forward diffusion animation saved.\n",
      "Reverse denoising animation saved.\n",
      "Forward process completed. Running reverse denoising...\n"
     ]
    },
    {
     "name": "stderr",
     "output_type": "stream",
     "text": [
      "9it [00:00, 3239.68it/s]\n",
      "MovieWriter imagemagick unavailable; using Pillow instead.\n"
     ]
    },
    {
     "name": "stdout",
     "output_type": "stream",
     "text": [
      "Reverse denoising completed.\n",
      "Frames to plot: [0, 1, 2, 3, 4, 5, 6, 7, 8, 9]\n"
     ]
    },
    {
     "name": "stderr",
     "output_type": "stream",
     "text": [
      "MovieWriter imagemagick unavailable; using Pillow instead.\n"
     ]
    },
    {
     "name": "stdout",
     "output_type": "stream",
     "text": [
      "Forward diffusion animation saved.\n",
      "Reverse denoising animation saved.\n",
      "Forward process completed. Running reverse denoising...\n"
     ]
    },
    {
     "name": "stderr",
     "output_type": "stream",
     "text": [
      "49it [00:00, 6029.48it/s]\n",
      "MovieWriter imagemagick unavailable; using Pillow instead.\n"
     ]
    },
    {
     "name": "stdout",
     "output_type": "stream",
     "text": [
      "Reverse denoising completed.\n",
      "Frames to plot: [0, 1, 2, 3, 4, 5, 6, 7, 8, 9, 10, 11, 12, 13, 14, 15, 16, 17, 18, 19, 20, 21, 22, 23, 24, 25, 26, 27, 28, 29, 30, 31, 32, 33, 34, 35, 36, 37, 38, 39, 40, 41, 42, 43, 44, 45, 46, 47, 48, 49]\n"
     ]
    },
    {
     "name": "stderr",
     "output_type": "stream",
     "text": [
      "/tmp/ipykernel_213388/3996909593.py:42: RuntimeWarning: divide by zero encountered in divide\n",
      "  return np.sum(p_true * np.log(p_true / p_approx))\n",
      "/tmp/ipykernel_213388/3996909593.py:42: RuntimeWarning: overflow encountered in divide\n",
      "  return np.sum(p_true * np.log(p_true / p_approx))\n",
      "MovieWriter imagemagick unavailable; using Pillow instead.\n"
     ]
    },
    {
     "name": "stdout",
     "output_type": "stream",
     "text": [
      "Forward diffusion animation saved.\n"
     ]
    },
    {
     "name": "stderr",
     "output_type": "stream",
     "text": [
      "/tmp/ipykernel_213388/3996909593.py:42: RuntimeWarning: overflow encountered in divide\n",
      "  return np.sum(p_true * np.log(p_true / p_approx))\n",
      "/tmp/ipykernel_213388/3996909593.py:42: RuntimeWarning: divide by zero encountered in divide\n",
      "  return np.sum(p_true * np.log(p_true / p_approx))\n"
     ]
    },
    {
     "name": "stdout",
     "output_type": "stream",
     "text": [
      "Reverse denoising animation saved.\n",
      "Forward process completed. Running reverse denoising...\n"
     ]
    },
    {
     "name": "stderr",
     "output_type": "stream",
     "text": [
      "49it [00:00, 5965.95it/s]\n",
      "MovieWriter imagemagick unavailable; using Pillow instead.\n"
     ]
    },
    {
     "name": "stdout",
     "output_type": "stream",
     "text": [
      "Reverse denoising completed.\n",
      "Frames to plot: [0, 1, 2, 3, 4, 5, 6, 7, 8, 9, 10, 11, 12, 13, 14, 15, 16, 17, 18, 19, 20, 21, 22, 23, 24, 25, 26, 27, 28, 29, 30, 31, 32, 33, 34, 35, 36, 37, 38, 39, 40, 41, 42, 43, 44, 45, 46, 47, 48, 49]\n"
     ]
    },
    {
     "name": "stderr",
     "output_type": "stream",
     "text": [
      "MovieWriter imagemagick unavailable; using Pillow instead.\n"
     ]
    },
    {
     "name": "stdout",
     "output_type": "stream",
     "text": [
      "Forward diffusion animation saved.\n",
      "Reverse denoising animation saved.\n",
      "Forward process completed. Running reverse denoising...\n"
     ]
    },
    {
     "name": "stderr",
     "output_type": "stream",
     "text": [
      "49it [00:00, 5346.95it/s]\n",
      "MovieWriter imagemagick unavailable; using Pillow instead.\n"
     ]
    },
    {
     "name": "stdout",
     "output_type": "stream",
     "text": [
      "Reverse denoising completed.\n",
      "Frames to plot: [0, 1, 2, 3, 4, 5, 6, 7, 8, 9, 10, 11, 12, 13, 14, 15, 16, 17, 18, 19, 20, 21, 22, 23, 24, 25, 26, 27, 28, 29, 30, 31, 32, 33, 34, 35, 36, 37, 38, 39, 40, 41, 42, 43, 44, 45, 46, 47, 48, 49]\n"
     ]
    },
    {
     "name": "stderr",
     "output_type": "stream",
     "text": [
      "MovieWriter imagemagick unavailable; using Pillow instead.\n"
     ]
    },
    {
     "name": "stdout",
     "output_type": "stream",
     "text": [
      "Forward diffusion animation saved.\n"
     ]
    },
    {
     "name": "stderr",
     "output_type": "stream",
     "text": [
      "/tmp/ipykernel_213388/3996909593.py:42: RuntimeWarning: divide by zero encountered in divide\n",
      "  return np.sum(p_true * np.log(p_true / p_approx))\n",
      "/tmp/ipykernel_213388/3996909593.py:42: RuntimeWarning: overflow encountered in divide\n",
      "  return np.sum(p_true * np.log(p_true / p_approx))\n"
     ]
    },
    {
     "name": "stdout",
     "output_type": "stream",
     "text": [
      "Reverse denoising animation saved.\n"
     ]
    }
   ],
   "source": [
    "T = 100\n",
    "result_folder = \"results_beta_0_01\"\n",
    "run_experiment(T, \"linear\", {\"beta_min\": 0.01, \"beta_max\": 0.5}, result_folder, \"linear\")\n",
    "run_experiment(T, \"constant\", {\"beta_value\": 0.1}, result_folder, \"constant\")\n",
    "run_experiment(T, \"exponential\", {\"beta_min\": 0.01, \"beta_max\": 0.5}, result_folder, \"exponential\")\n",
    "T = 20\n",
    "result_folder = \"results_beta_0_01\"\n",
    "run_experiment(T, \"linear\", {\"beta_min\": 0.01, \"beta_max\": 0.5}, result_folder, \"linear\")\n",
    "run_experiment(T, \"constant\", {\"beta_value\": 0.1}, result_folder, \"constant\")\n",
    "run_experiment(T, \"exponential\", {\"beta_min\": 0.01, \"beta_max\": 0.5}, result_folder, \"exponential\")\n",
    "T = 10\n",
    "result_folder = \"results_beta_0_01\"\n",
    "run_experiment(T, \"linear\", {\"beta_min\": 0.01, \"beta_max\": 0.5}, result_folder, \"linear\")\n",
    "run_experiment(T, \"constant\", {\"beta_value\": 0.1}, result_folder, \"constant\")\n",
    "run_experiment(T, \"exponential\", {\"beta_min\": 0.01, \"beta_max\": 0.5}, result_folder, \"exponential\")\n",
    "T = 50\n",
    "result_folder = \"results_beta_0_01\"\n",
    "run_experiment(T, \"linear\", {\"beta_min\": 0.01, \"beta_max\": 0.5}, result_folder, \"linear\")\n",
    "run_experiment(T, \"constant\", {\"beta_value\": 0.1}, result_folder, \"constant\")\n",
    "run_experiment(T, \"exponential\", {\"beta_min\": 0.01, \"beta_max\": 0.5}, result_folder, \"exponential\")"
   ]
  },
  {
   "cell_type": "code",
   "execution_count": 12,
   "metadata": {},
   "outputs": [
    {
     "name": "stdout",
     "output_type": "stream",
     "text": [
      "Forward process completed. Running reverse denoising...\n"
     ]
    },
    {
     "name": "stderr",
     "output_type": "stream",
     "text": [
      "999it [00:00, 5951.38it/s]"
     ]
    },
    {
     "name": "stdout",
     "output_type": "stream",
     "text": [
      "Reverse denoising completed.\n",
      "Frames to plot: [1, 2, 3, 4, 5, 6, 7, 8, 9, 0, 10, 20, 30, 40, 50, 60, 70, 80, 90, 100, 110, 120, 130, 140, 150, 160, 170, 180, 190, 200, 210, 220, 230, 240, 250, 260, 270, 280, 290, 300, 310, 320, 330, 340, 350, 360, 370, 380, 390, 400, 410, 420, 430, 440, 450, 460, 470, 480, 490, 500, 510, 520, 530, 540, 550, 560, 570, 580, 590, 600, 610, 620, 630, 640, 650, 660, 670, 680, 690, 700, 710, 720, 730, 740, 750, 760, 770, 780, 790, 800, 810, 820, 830, 840, 850, 860, 870, 880, 890, 900, 910, 920, 930, 940, 950, 960, 970, 980, 990, 990, 991, 992, 993, 994, 995, 996, 997, 998]\n"
     ]
    },
    {
     "name": "stderr",
     "output_type": "stream",
     "text": [
      "\n",
      "MovieWriter imagemagick unavailable; using Pillow instead.\n",
      "/tmp/ipykernel_213388/3996909593.py:42: RuntimeWarning: divide by zero encountered in divide\n",
      "  return np.sum(p_true * np.log(p_true / p_approx))\n",
      "/tmp/ipykernel_213388/3996909593.py:42: RuntimeWarning: overflow encountered in divide\n",
      "  return np.sum(p_true * np.log(p_true / p_approx))\n",
      "MovieWriter imagemagick unavailable; using Pillow instead.\n"
     ]
    },
    {
     "name": "stdout",
     "output_type": "stream",
     "text": [
      "Forward diffusion animation saved.\n"
     ]
    },
    {
     "name": "stderr",
     "output_type": "stream",
     "text": [
      "/tmp/ipykernel_213388/3996909593.py:42: RuntimeWarning: divide by zero encountered in divide\n",
      "  return np.sum(p_true * np.log(p_true / p_approx))\n",
      "/tmp/ipykernel_213388/3996909593.py:42: RuntimeWarning: overflow encountered in divide\n",
      "  return np.sum(p_true * np.log(p_true / p_approx))\n"
     ]
    },
    {
     "name": "stdout",
     "output_type": "stream",
     "text": [
      "Reverse denoising animation saved.\n",
      "Forward process completed. Running reverse denoising...\n"
     ]
    },
    {
     "name": "stderr",
     "output_type": "stream",
     "text": [
      "999it [00:00, 7768.71it/s]"
     ]
    },
    {
     "name": "stdout",
     "output_type": "stream",
     "text": [
      "Reverse denoising completed.\n",
      "Frames to plot: [1, 2, 3, 4, 5, 6, 7, 8, 9, 0, 10, 20, 30, 40, 50, 60, 70, 80, 90, 100, 110, 120, 130, 140, 150, 160, 170, 180, 190, 200, 210, 220, 230, 240, 250, 260, 270, 280, 290, 300, 310, 320, 330, 340, 350, 360, 370, 380, 390, 400, 410, 420, 430, 440, 450, 460, 470, 480, 490, 500, 510, 520, 530, 540, 550, 560, 570, 580, 590, 600, 610, 620, 630, 640, 650, 660, 670, 680, 690, 700, 710, 720, 730, 740, 750, 760, 770, 780, 790, 800, 810, 820, 830, 840, 850, 860, 870, 880, 890, 900, 910, 920, 930, 940, 950, 960, 970, 980, 990, 990, 991, 992, 993, 994, 995, 996, 997, 998]\n"
     ]
    },
    {
     "name": "stderr",
     "output_type": "stream",
     "text": [
      "\n",
      "MovieWriter imagemagick unavailable; using Pillow instead.\n",
      "/tmp/ipykernel_213388/3996909593.py:42: RuntimeWarning: overflow encountered in divide\n",
      "  return np.sum(p_true * np.log(p_true / p_approx))\n",
      "/tmp/ipykernel_213388/3996909593.py:42: RuntimeWarning: divide by zero encountered in divide\n",
      "  return np.sum(p_true * np.log(p_true / p_approx))\n",
      "MovieWriter imagemagick unavailable; using Pillow instead.\n"
     ]
    },
    {
     "name": "stdout",
     "output_type": "stream",
     "text": [
      "Forward diffusion animation saved.\n"
     ]
    },
    {
     "name": "stderr",
     "output_type": "stream",
     "text": [
      "/tmp/ipykernel_213388/3996909593.py:42: RuntimeWarning: divide by zero encountered in divide\n",
      "  return np.sum(p_true * np.log(p_true / p_approx))\n",
      "/tmp/ipykernel_213388/3996909593.py:42: RuntimeWarning: overflow encountered in divide\n",
      "  return np.sum(p_true * np.log(p_true / p_approx))\n"
     ]
    },
    {
     "name": "stdout",
     "output_type": "stream",
     "text": [
      "Reverse denoising animation saved.\n",
      "Forward process completed. Running reverse denoising...\n"
     ]
    },
    {
     "name": "stderr",
     "output_type": "stream",
     "text": [
      "999it [00:00, 8006.05it/s]"
     ]
    },
    {
     "name": "stdout",
     "output_type": "stream",
     "text": [
      "Reverse denoising completed.\n",
      "Frames to plot: [1, 2, 3, 4, 5, 6, 7, 8, 9, 0, 10, 20, 30, 40, 50, 60, 70, 80, 90, 100, 110, 120, 130, 140, 150, 160, 170, 180, 190, 200, 210, 220, 230, 240, 250, 260, 270, 280, 290, 300, 310, 320, 330, 340, 350, 360, 370, 380, 390, 400, 410, 420, 430, 440, 450, 460, 470, 480, 490, 500, 510, 520, 530, 540, 550, 560, 570, 580, 590, 600, 610, 620, 630, 640, 650, 660, 670, 680, 690, 700, 710, 720, 730, 740, 750, 760, 770, 780, 790, 800, 810, 820, 830, 840, 850, 860, 870, 880, 890, 900, 910, 920, 930, 940, 950, 960, 970, 980, 990, 990, 991, 992, 993, 994, 995, 996, 997, 998]\n"
     ]
    },
    {
     "name": "stderr",
     "output_type": "stream",
     "text": [
      "\n",
      "MovieWriter imagemagick unavailable; using Pillow instead.\n",
      "/tmp/ipykernel_213388/3996909593.py:42: RuntimeWarning: divide by zero encountered in divide\n",
      "  return np.sum(p_true * np.log(p_true / p_approx))\n",
      "/tmp/ipykernel_213388/3996909593.py:42: RuntimeWarning: overflow encountered in divide\n",
      "  return np.sum(p_true * np.log(p_true / p_approx))\n",
      "MovieWriter imagemagick unavailable; using Pillow instead.\n"
     ]
    },
    {
     "name": "stdout",
     "output_type": "stream",
     "text": [
      "Forward diffusion animation saved.\n"
     ]
    },
    {
     "name": "stderr",
     "output_type": "stream",
     "text": [
      "/tmp/ipykernel_213388/3996909593.py:42: RuntimeWarning: divide by zero encountered in divide\n",
      "  return np.sum(p_true * np.log(p_true / p_approx))\n",
      "/tmp/ipykernel_213388/3996909593.py:42: RuntimeWarning: overflow encountered in divide\n",
      "  return np.sum(p_true * np.log(p_true / p_approx))\n"
     ]
    },
    {
     "name": "stdout",
     "output_type": "stream",
     "text": [
      "Reverse denoising animation saved.\n",
      "Forward process completed. Running reverse denoising...\n"
     ]
    },
    {
     "name": "stderr",
     "output_type": "stream",
     "text": [
      "499it [00:00, 8020.62it/s]\n",
      "MovieWriter imagemagick unavailable; using Pillow instead.\n"
     ]
    },
    {
     "name": "stdout",
     "output_type": "stream",
     "text": [
      "Reverse denoising completed.\n",
      "Frames to plot: [1, 2, 3, 4, 0, 5, 10, 15, 20, 25, 30, 35, 40, 45, 50, 55, 60, 65, 70, 75, 80, 85, 90, 95, 100, 105, 110, 115, 120, 125, 130, 135, 140, 145, 150, 155, 160, 165, 170, 175, 180, 185, 190, 195, 200, 205, 210, 215, 220, 225, 230, 235, 240, 245, 250, 255, 260, 265, 270, 275, 280, 285, 290, 295, 300, 305, 310, 315, 320, 325, 330, 335, 340, 345, 350, 355, 360, 365, 370, 375, 380, 385, 390, 395, 400, 405, 410, 415, 420, 425, 430, 435, 440, 445, 450, 455, 460, 465, 470, 475, 480, 485, 490, 495, 495, 496, 497, 498]\n"
     ]
    },
    {
     "name": "stderr",
     "output_type": "stream",
     "text": [
      "/tmp/ipykernel_213388/3996909593.py:42: RuntimeWarning: divide by zero encountered in divide\n",
      "  return np.sum(p_true * np.log(p_true / p_approx))\n",
      "/tmp/ipykernel_213388/3996909593.py:42: RuntimeWarning: overflow encountered in divide\n",
      "  return np.sum(p_true * np.log(p_true / p_approx))\n",
      "MovieWriter imagemagick unavailable; using Pillow instead.\n"
     ]
    },
    {
     "name": "stdout",
     "output_type": "stream",
     "text": [
      "Forward diffusion animation saved.\n"
     ]
    },
    {
     "name": "stderr",
     "output_type": "stream",
     "text": [
      "/tmp/ipykernel_213388/3996909593.py:42: RuntimeWarning: divide by zero encountered in divide\n",
      "  return np.sum(p_true * np.log(p_true / p_approx))\n",
      "/tmp/ipykernel_213388/3996909593.py:42: RuntimeWarning: overflow encountered in divide\n",
      "  return np.sum(p_true * np.log(p_true / p_approx))\n"
     ]
    },
    {
     "name": "stdout",
     "output_type": "stream",
     "text": [
      "Reverse denoising animation saved.\n",
      "Forward process completed. Running reverse denoising...\n"
     ]
    },
    {
     "name": "stderr",
     "output_type": "stream",
     "text": [
      "499it [00:00, 8081.70it/s]\n",
      "MovieWriter imagemagick unavailable; using Pillow instead.\n"
     ]
    },
    {
     "name": "stdout",
     "output_type": "stream",
     "text": [
      "Reverse denoising completed.\n",
      "Frames to plot: [1, 2, 3, 4, 0, 5, 10, 15, 20, 25, 30, 35, 40, 45, 50, 55, 60, 65, 70, 75, 80, 85, 90, 95, 100, 105, 110, 115, 120, 125, 130, 135, 140, 145, 150, 155, 160, 165, 170, 175, 180, 185, 190, 195, 200, 205, 210, 215, 220, 225, 230, 235, 240, 245, 250, 255, 260, 265, 270, 275, 280, 285, 290, 295, 300, 305, 310, 315, 320, 325, 330, 335, 340, 345, 350, 355, 360, 365, 370, 375, 380, 385, 390, 395, 400, 405, 410, 415, 420, 425, 430, 435, 440, 445, 450, 455, 460, 465, 470, 475, 480, 485, 490, 495, 495, 496, 497, 498]\n"
     ]
    },
    {
     "name": "stderr",
     "output_type": "stream",
     "text": [
      "/tmp/ipykernel_213388/3996909593.py:42: RuntimeWarning: overflow encountered in divide\n",
      "  return np.sum(p_true * np.log(p_true / p_approx))\n",
      "/tmp/ipykernel_213388/3996909593.py:42: RuntimeWarning: divide by zero encountered in divide\n",
      "  return np.sum(p_true * np.log(p_true / p_approx))\n",
      "MovieWriter imagemagick unavailable; using Pillow instead.\n"
     ]
    },
    {
     "name": "stdout",
     "output_type": "stream",
     "text": [
      "Forward diffusion animation saved.\n"
     ]
    },
    {
     "name": "stderr",
     "output_type": "stream",
     "text": [
      "/tmp/ipykernel_213388/3996909593.py:42: RuntimeWarning: divide by zero encountered in divide\n",
      "  return np.sum(p_true * np.log(p_true / p_approx))\n",
      "/tmp/ipykernel_213388/3996909593.py:42: RuntimeWarning: overflow encountered in divide\n",
      "  return np.sum(p_true * np.log(p_true / p_approx))\n"
     ]
    },
    {
     "name": "stdout",
     "output_type": "stream",
     "text": [
      "Reverse denoising animation saved.\n",
      "Forward process completed. Running reverse denoising...\n"
     ]
    },
    {
     "name": "stderr",
     "output_type": "stream",
     "text": [
      "499it [00:00, 8095.39it/s]\n",
      "MovieWriter imagemagick unavailable; using Pillow instead.\n"
     ]
    },
    {
     "name": "stdout",
     "output_type": "stream",
     "text": [
      "Reverse denoising completed.\n",
      "Frames to plot: [1, 2, 3, 4, 0, 5, 10, 15, 20, 25, 30, 35, 40, 45, 50, 55, 60, 65, 70, 75, 80, 85, 90, 95, 100, 105, 110, 115, 120, 125, 130, 135, 140, 145, 150, 155, 160, 165, 170, 175, 180, 185, 190, 195, 200, 205, 210, 215, 220, 225, 230, 235, 240, 245, 250, 255, 260, 265, 270, 275, 280, 285, 290, 295, 300, 305, 310, 315, 320, 325, 330, 335, 340, 345, 350, 355, 360, 365, 370, 375, 380, 385, 390, 395, 400, 405, 410, 415, 420, 425, 430, 435, 440, 445, 450, 455, 460, 465, 470, 475, 480, 485, 490, 495, 495, 496, 497, 498]\n"
     ]
    },
    {
     "name": "stderr",
     "output_type": "stream",
     "text": [
      "/tmp/ipykernel_213388/3996909593.py:42: RuntimeWarning: overflow encountered in divide\n",
      "  return np.sum(p_true * np.log(p_true / p_approx))\n",
      "/tmp/ipykernel_213388/3996909593.py:42: RuntimeWarning: divide by zero encountered in divide\n",
      "  return np.sum(p_true * np.log(p_true / p_approx))\n",
      "MovieWriter imagemagick unavailable; using Pillow instead.\n"
     ]
    },
    {
     "name": "stdout",
     "output_type": "stream",
     "text": [
      "Forward diffusion animation saved.\n"
     ]
    },
    {
     "name": "stderr",
     "output_type": "stream",
     "text": [
      "/tmp/ipykernel_213388/3996909593.py:42: RuntimeWarning: divide by zero encountered in divide\n",
      "  return np.sum(p_true * np.log(p_true / p_approx))\n",
      "/tmp/ipykernel_213388/3996909593.py:42: RuntimeWarning: overflow encountered in divide\n",
      "  return np.sum(p_true * np.log(p_true / p_approx))\n"
     ]
    },
    {
     "name": "stdout",
     "output_type": "stream",
     "text": [
      "Reverse denoising animation saved.\n",
      "Forward process completed. Running reverse denoising...\n"
     ]
    },
    {
     "name": "stderr",
     "output_type": "stream",
     "text": [
      "99it [00:00, 7520.08it/s]\n",
      "MovieWriter imagemagick unavailable; using Pillow instead.\n"
     ]
    },
    {
     "name": "stdout",
     "output_type": "stream",
     "text": [
      "Reverse denoising completed.\n",
      "Frames to plot: [0, 1, 2, 3, 4, 5, 6, 7, 8, 9, 10, 11, 12, 13, 14, 15, 16, 17, 18, 19, 20, 21, 22, 23, 24, 25, 26, 27, 28, 29, 30, 31, 32, 33, 34, 35, 36, 37, 38, 39, 40, 41, 42, 43, 44, 45, 46, 47, 48, 49, 50, 51, 52, 53, 54, 55, 56, 57, 58, 59, 60, 61, 62, 63, 64, 65, 66, 67, 68, 69, 70, 71, 72, 73, 74, 75, 76, 77, 78, 79, 80, 81, 82, 83, 84, 85, 86, 87, 88, 89, 90, 91, 92, 93, 94, 95, 96, 97, 98, 99]\n"
     ]
    },
    {
     "name": "stderr",
     "output_type": "stream",
     "text": [
      "/tmp/ipykernel_213388/3996909593.py:42: RuntimeWarning: divide by zero encountered in divide\n",
      "  return np.sum(p_true * np.log(p_true / p_approx))\n",
      "/tmp/ipykernel_213388/3996909593.py:42: RuntimeWarning: overflow encountered in divide\n",
      "  return np.sum(p_true * np.log(p_true / p_approx))\n",
      "MovieWriter imagemagick unavailable; using Pillow instead.\n"
     ]
    },
    {
     "name": "stdout",
     "output_type": "stream",
     "text": [
      "Forward diffusion animation saved.\n"
     ]
    },
    {
     "name": "stderr",
     "output_type": "stream",
     "text": [
      "/tmp/ipykernel_213388/3996909593.py:42: RuntimeWarning: divide by zero encountered in divide\n",
      "  return np.sum(p_true * np.log(p_true / p_approx))\n",
      "/tmp/ipykernel_213388/3996909593.py:42: RuntimeWarning: overflow encountered in divide\n",
      "  return np.sum(p_true * np.log(p_true / p_approx))\n"
     ]
    },
    {
     "name": "stdout",
     "output_type": "stream",
     "text": [
      "Reverse denoising animation saved.\n",
      "Forward process completed. Running reverse denoising...\n"
     ]
    },
    {
     "name": "stderr",
     "output_type": "stream",
     "text": [
      "99it [00:00, 6949.56it/s]\n",
      "MovieWriter imagemagick unavailable; using Pillow instead.\n"
     ]
    },
    {
     "name": "stdout",
     "output_type": "stream",
     "text": [
      "Reverse denoising completed.\n",
      "Frames to plot: [0, 1, 2, 3, 4, 5, 6, 7, 8, 9, 10, 11, 12, 13, 14, 15, 16, 17, 18, 19, 20, 21, 22, 23, 24, 25, 26, 27, 28, 29, 30, 31, 32, 33, 34, 35, 36, 37, 38, 39, 40, 41, 42, 43, 44, 45, 46, 47, 48, 49, 50, 51, 52, 53, 54, 55, 56, 57, 58, 59, 60, 61, 62, 63, 64, 65, 66, 67, 68, 69, 70, 71, 72, 73, 74, 75, 76, 77, 78, 79, 80, 81, 82, 83, 84, 85, 86, 87, 88, 89, 90, 91, 92, 93, 94, 95, 96, 97, 98, 99]\n"
     ]
    },
    {
     "name": "stderr",
     "output_type": "stream",
     "text": [
      "MovieWriter imagemagick unavailable; using Pillow instead.\n"
     ]
    },
    {
     "name": "stdout",
     "output_type": "stream",
     "text": [
      "Forward diffusion animation saved.\n",
      "Reverse denoising animation saved.\n",
      "Forward process completed. Running reverse denoising...\n"
     ]
    },
    {
     "name": "stderr",
     "output_type": "stream",
     "text": [
      "99it [00:00, 7496.32it/s]\n",
      "MovieWriter imagemagick unavailable; using Pillow instead.\n"
     ]
    },
    {
     "name": "stdout",
     "output_type": "stream",
     "text": [
      "Reverse denoising completed.\n",
      "Frames to plot: [0, 1, 2, 3, 4, 5, 6, 7, 8, 9, 10, 11, 12, 13, 14, 15, 16, 17, 18, 19, 20, 21, 22, 23, 24, 25, 26, 27, 28, 29, 30, 31, 32, 33, 34, 35, 36, 37, 38, 39, 40, 41, 42, 43, 44, 45, 46, 47, 48, 49, 50, 51, 52, 53, 54, 55, 56, 57, 58, 59, 60, 61, 62, 63, 64, 65, 66, 67, 68, 69, 70, 71, 72, 73, 74, 75, 76, 77, 78, 79, 80, 81, 82, 83, 84, 85, 86, 87, 88, 89, 90, 91, 92, 93, 94, 95, 96, 97, 98, 99]\n"
     ]
    },
    {
     "name": "stderr",
     "output_type": "stream",
     "text": [
      "MovieWriter imagemagick unavailable; using Pillow instead.\n"
     ]
    },
    {
     "name": "stdout",
     "output_type": "stream",
     "text": [
      "Forward diffusion animation saved.\n",
      "Reverse denoising animation saved.\n",
      "Forward process completed. Running reverse denoising...\n"
     ]
    },
    {
     "name": "stderr",
     "output_type": "stream",
     "text": [
      "49it [00:00, 6639.13it/s]\n",
      "MovieWriter imagemagick unavailable; using Pillow instead.\n"
     ]
    },
    {
     "name": "stdout",
     "output_type": "stream",
     "text": [
      "Reverse denoising completed.\n",
      "Frames to plot: [0, 1, 2, 3, 4, 5, 6, 7, 8, 9, 10, 11, 12, 13, 14, 15, 16, 17, 18, 19, 20, 21, 22, 23, 24, 25, 26, 27, 28, 29, 30, 31, 32, 33, 34, 35, 36, 37, 38, 39, 40, 41, 42, 43, 44, 45, 46, 47, 48, 49]\n"
     ]
    },
    {
     "name": "stderr",
     "output_type": "stream",
     "text": [
      "/tmp/ipykernel_213388/3996909593.py:42: RuntimeWarning: divide by zero encountered in divide\n",
      "  return np.sum(p_true * np.log(p_true / p_approx))\n",
      "/tmp/ipykernel_213388/3996909593.py:42: RuntimeWarning: overflow encountered in divide\n",
      "  return np.sum(p_true * np.log(p_true / p_approx))\n",
      "MovieWriter imagemagick unavailable; using Pillow instead.\n"
     ]
    },
    {
     "name": "stdout",
     "output_type": "stream",
     "text": [
      "Forward diffusion animation saved.\n"
     ]
    },
    {
     "name": "stderr",
     "output_type": "stream",
     "text": [
      "/tmp/ipykernel_213388/3996909593.py:42: RuntimeWarning: divide by zero encountered in divide\n",
      "  return np.sum(p_true * np.log(p_true / p_approx))\n",
      "/tmp/ipykernel_213388/3996909593.py:42: RuntimeWarning: overflow encountered in divide\n",
      "  return np.sum(p_true * np.log(p_true / p_approx))\n"
     ]
    },
    {
     "name": "stdout",
     "output_type": "stream",
     "text": [
      "Reverse denoising animation saved.\n",
      "Forward process completed. Running reverse denoising...\n"
     ]
    },
    {
     "name": "stderr",
     "output_type": "stream",
     "text": [
      "49it [00:00, 6135.32it/s]\n",
      "MovieWriter imagemagick unavailable; using Pillow instead.\n"
     ]
    },
    {
     "name": "stdout",
     "output_type": "stream",
     "text": [
      "Reverse denoising completed.\n",
      "Frames to plot: [0, 1, 2, 3, 4, 5, 6, 7, 8, 9, 10, 11, 12, 13, 14, 15, 16, 17, 18, 19, 20, 21, 22, 23, 24, 25, 26, 27, 28, 29, 30, 31, 32, 33, 34, 35, 36, 37, 38, 39, 40, 41, 42, 43, 44, 45, 46, 47, 48, 49]\n"
     ]
    },
    {
     "name": "stderr",
     "output_type": "stream",
     "text": [
      "/tmp/ipykernel_213388/3996909593.py:42: RuntimeWarning: overflow encountered in divide\n",
      "  return np.sum(p_true * np.log(p_true / p_approx))\n",
      "/tmp/ipykernel_213388/3996909593.py:42: RuntimeWarning: divide by zero encountered in divide\n",
      "  return np.sum(p_true * np.log(p_true / p_approx))\n",
      "MovieWriter imagemagick unavailable; using Pillow instead.\n"
     ]
    },
    {
     "name": "stdout",
     "output_type": "stream",
     "text": [
      "Forward diffusion animation saved.\n"
     ]
    },
    {
     "name": "stderr",
     "output_type": "stream",
     "text": [
      "/tmp/ipykernel_213388/3996909593.py:42: RuntimeWarning: divide by zero encountered in divide\n",
      "  return np.sum(p_true * np.log(p_true / p_approx))\n",
      "/tmp/ipykernel_213388/3996909593.py:42: RuntimeWarning: overflow encountered in divide\n",
      "  return np.sum(p_true * np.log(p_true / p_approx))\n"
     ]
    },
    {
     "name": "stdout",
     "output_type": "stream",
     "text": [
      "Reverse denoising animation saved.\n",
      "Forward process completed. Running reverse denoising...\n"
     ]
    },
    {
     "name": "stderr",
     "output_type": "stream",
     "text": [
      "49it [00:00, 6941.63it/s]\n",
      "MovieWriter imagemagick unavailable; using Pillow instead.\n"
     ]
    },
    {
     "name": "stdout",
     "output_type": "stream",
     "text": [
      "Reverse denoising completed.\n",
      "Frames to plot: [0, 1, 2, 3, 4, 5, 6, 7, 8, 9, 10, 11, 12, 13, 14, 15, 16, 17, 18, 19, 20, 21, 22, 23, 24, 25, 26, 27, 28, 29, 30, 31, 32, 33, 34, 35, 36, 37, 38, 39, 40, 41, 42, 43, 44, 45, 46, 47, 48, 49]\n"
     ]
    },
    {
     "name": "stderr",
     "output_type": "stream",
     "text": [
      "MovieWriter imagemagick unavailable; using Pillow instead.\n"
     ]
    },
    {
     "name": "stdout",
     "output_type": "stream",
     "text": [
      "Forward diffusion animation saved.\n",
      "Reverse denoising animation saved.\n",
      "Forward process completed. Running reverse denoising...\n"
     ]
    },
    {
     "name": "stderr",
     "output_type": "stream",
     "text": [
      "19it [00:00, 5930.77it/s]\n",
      "MovieWriter imagemagick unavailable; using Pillow instead.\n"
     ]
    },
    {
     "name": "stdout",
     "output_type": "stream",
     "text": [
      "Reverse denoising completed.\n",
      "Frames to plot: [0, 1, 2, 3, 4, 5, 6, 7, 8, 9, 10, 11, 12, 13, 14, 15, 16, 17, 18, 19]\n"
     ]
    },
    {
     "name": "stderr",
     "output_type": "stream",
     "text": [
      "/tmp/ipykernel_213388/3996909593.py:42: RuntimeWarning: divide by zero encountered in divide\n",
      "  return np.sum(p_true * np.log(p_true / p_approx))\n",
      "/tmp/ipykernel_213388/3996909593.py:42: RuntimeWarning: overflow encountered in divide\n",
      "  return np.sum(p_true * np.log(p_true / p_approx))\n",
      "MovieWriter imagemagick unavailable; using Pillow instead.\n"
     ]
    },
    {
     "name": "stdout",
     "output_type": "stream",
     "text": [
      "Forward diffusion animation saved.\n"
     ]
    },
    {
     "name": "stderr",
     "output_type": "stream",
     "text": [
      "/tmp/ipykernel_213388/3996909593.py:42: RuntimeWarning: divide by zero encountered in divide\n",
      "  return np.sum(p_true * np.log(p_true / p_approx))\n",
      "/tmp/ipykernel_213388/3996909593.py:42: RuntimeWarning: overflow encountered in divide\n",
      "  return np.sum(p_true * np.log(p_true / p_approx))\n"
     ]
    },
    {
     "name": "stdout",
     "output_type": "stream",
     "text": [
      "Reverse denoising animation saved.\n",
      "Forward process completed. Running reverse denoising...\n"
     ]
    },
    {
     "name": "stderr",
     "output_type": "stream",
     "text": [
      "19it [00:00, 4841.54it/s]\n",
      "MovieWriter imagemagick unavailable; using Pillow instead.\n"
     ]
    },
    {
     "name": "stdout",
     "output_type": "stream",
     "text": [
      "Reverse denoising completed.\n",
      "Frames to plot: [0, 1, 2, 3, 4, 5, 6, 7, 8, 9, 10, 11, 12, 13, 14, 15, 16, 17, 18, 19]\n"
     ]
    },
    {
     "name": "stderr",
     "output_type": "stream",
     "text": [
      "MovieWriter imagemagick unavailable; using Pillow instead.\n"
     ]
    },
    {
     "name": "stdout",
     "output_type": "stream",
     "text": [
      "Forward diffusion animation saved.\n",
      "Reverse denoising animation saved.\n",
      "Forward process completed. Running reverse denoising...\n"
     ]
    },
    {
     "name": "stderr",
     "output_type": "stream",
     "text": [
      "19it [00:00, 5480.86it/s]\n",
      "MovieWriter imagemagick unavailable; using Pillow instead.\n"
     ]
    },
    {
     "name": "stdout",
     "output_type": "stream",
     "text": [
      "Reverse denoising completed.\n",
      "Frames to plot: [0, 1, 2, 3, 4, 5, 6, 7, 8, 9, 10, 11, 12, 13, 14, 15, 16, 17, 18, 19]\n"
     ]
    },
    {
     "name": "stderr",
     "output_type": "stream",
     "text": [
      "MovieWriter imagemagick unavailable; using Pillow instead.\n"
     ]
    },
    {
     "name": "stdout",
     "output_type": "stream",
     "text": [
      "Forward diffusion animation saved.\n",
      "Reverse denoising animation saved.\n",
      "Forward process completed. Running reverse denoising...\n"
     ]
    },
    {
     "name": "stderr",
     "output_type": "stream",
     "text": [
      "9it [00:00, 4547.49it/s]\n",
      "MovieWriter imagemagick unavailable; using Pillow instead.\n"
     ]
    },
    {
     "name": "stdout",
     "output_type": "stream",
     "text": [
      "Reverse denoising completed.\n",
      "Frames to plot: [0, 1, 2, 3, 4, 5, 6, 7, 8, 9]\n"
     ]
    },
    {
     "name": "stderr",
     "output_type": "stream",
     "text": [
      "MovieWriter imagemagick unavailable; using Pillow instead.\n"
     ]
    },
    {
     "name": "stdout",
     "output_type": "stream",
     "text": [
      "Forward diffusion animation saved.\n"
     ]
    },
    {
     "name": "stderr",
     "output_type": "stream",
     "text": [
      "/tmp/ipykernel_213388/3996909593.py:42: RuntimeWarning: divide by zero encountered in divide\n",
      "  return np.sum(p_true * np.log(p_true / p_approx))\n",
      "/tmp/ipykernel_213388/3996909593.py:42: RuntimeWarning: overflow encountered in divide\n",
      "  return np.sum(p_true * np.log(p_true / p_approx))\n"
     ]
    },
    {
     "name": "stdout",
     "output_type": "stream",
     "text": [
      "Reverse denoising animation saved.\n",
      "Forward process completed. Running reverse denoising...\n"
     ]
    },
    {
     "name": "stderr",
     "output_type": "stream",
     "text": [
      "9it [00:00, 4135.49it/s]\n",
      "MovieWriter imagemagick unavailable; using Pillow instead.\n"
     ]
    },
    {
     "name": "stdout",
     "output_type": "stream",
     "text": [
      "Reverse denoising completed.\n",
      "Frames to plot: [0, 1, 2, 3, 4, 5, 6, 7, 8, 9]\n"
     ]
    },
    {
     "name": "stderr",
     "output_type": "stream",
     "text": [
      "MovieWriter imagemagick unavailable; using Pillow instead.\n"
     ]
    },
    {
     "name": "stdout",
     "output_type": "stream",
     "text": [
      "Forward diffusion animation saved.\n",
      "Reverse denoising animation saved.\n",
      "Forward process completed. Running reverse denoising...\n"
     ]
    },
    {
     "name": "stderr",
     "output_type": "stream",
     "text": [
      "9it [00:00, 4038.59it/s]\n",
      "MovieWriter imagemagick unavailable; using Pillow instead.\n"
     ]
    },
    {
     "name": "stdout",
     "output_type": "stream",
     "text": [
      "Reverse denoising completed.\n",
      "Frames to plot: [0, 1, 2, 3, 4, 5, 6, 7, 8, 9]\n"
     ]
    },
    {
     "name": "stderr",
     "output_type": "stream",
     "text": [
      "MovieWriter imagemagick unavailable; using Pillow instead.\n"
     ]
    },
    {
     "name": "stdout",
     "output_type": "stream",
     "text": [
      "Forward diffusion animation saved.\n",
      "Reverse denoising animation saved.\n"
     ]
    }
   ],
   "source": [
    "# Now we make an already gaussian distribution \n",
    "mean_1, std_1 = 4, 3\n",
    "\n",
    "x_0 = torch.normal(mean_1, std_1, size=(num_samples,))\n",
    "\n",
    "result_folder = \"results_gaussian\"\n",
    "T = 1000\n",
    "run_experiment(T, \"linear\", {\"beta_min\": 0.0001, \"beta_max\": 0.1}, result_folder, \"linear\")\n",
    "run_experiment(T, \"constant\", {\"beta_value\": 0.01}, result_folder, \"constant\")\n",
    "run_experiment(T, \"exponential\", {\"beta_min\": 0.0001, \"beta_max\": 0.1}, result_folder, \"exponential\")\n",
    "T = 500\n",
    "run_experiment(T, \"linear\", {\"beta_min\": 0.0001, \"beta_max\": 0.1}, result_folder, \"linear\")\n",
    "run_experiment(T, \"constant\", {\"beta_value\": 0.01}, result_folder, \"constant\")\n",
    "run_experiment(T, \"exponential\", {\"beta_min\": 0.0001, \"beta_max\": 0.1}, result_folder, \"exponential\")\n",
    "T = 100\n",
    "run_experiment(T, \"linear\", {\"beta_min\": 0.0001, \"beta_max\": 0.1}, result_folder, \"linear\")\n",
    "run_experiment(T, \"constant\", {\"beta_value\": 0.01}, result_folder, \"constant\")\n",
    "run_experiment(T, \"exponential\", {\"beta_min\": 0.0001, \"beta_max\": 0.1}, result_folder, \"exponential\")\n",
    "T = 50\n",
    "run_experiment(T, \"linear\", {\"beta_min\": 0.0001, \"beta_max\": 0.5}, result_folder, \"linear\")\n",
    "run_experiment(T, \"constant\", {\"beta_value\": 0.1}, result_folder, \"constant\")\n",
    "run_experiment(T, \"exponential\", {\"beta_min\": 0.0001, \"beta_max\": 0.5}, result_folder, \"exponential\")\n",
    "T = 20\n",
    "run_experiment(T, \"linear\", {\"beta_min\": 0.0001, \"beta_max\": 0.5}, result_folder, \"linear\")\n",
    "run_experiment(T, \"constant\", {\"beta_value\": 0.1}, result_folder, \"constant\")\n",
    "run_experiment(T, \"exponential\", {\"beta_min\": 0.0001, \"beta_max\": 0.5}, result_folder, \"exponential\")\n",
    "T = 10\n",
    "run_experiment(T, \"linear\", {\"beta_min\": 0.0001, \"beta_max\": 0.5}, result_folder, \"linear\")\n",
    "run_experiment(T, \"constant\", {\"beta_value\": 0.1}, result_folder, \"constant\")\n",
    "run_experiment(T, \"exponential\", {\"beta_min\": 0.0001, \"beta_max\": 0.5}, result_folder, \"exponential\")\n"
   ]
  }
 ],
 "metadata": {
  "kernelspec": {
   "display_name": "GGSP",
   "language": "python",
   "name": "python3"
  },
  "language_info": {
   "codemirror_mode": {
    "name": "ipython",
    "version": 3
   },
   "file_extension": ".py",
   "mimetype": "text/x-python",
   "name": "python",
   "nbconvert_exporter": "python",
   "pygments_lexer": "ipython3",
   "version": "3.11.10"
  }
 },
 "nbformat": 4,
 "nbformat_minor": 2
}
