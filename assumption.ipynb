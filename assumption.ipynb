{
 "cells": [
  {
   "cell_type": "code",
   "execution_count": null,
   "metadata": {},
   "outputs": [
    {
     "name": "stdout",
     "output_type": "stream",
     "text": [
      "Forward process completed. Running reverse denoising...\n"
     ]
    },
    {
     "name": "stderr",
     "output_type": "stream",
     "text": [
      "19it [00:00, 3891.39it/s]"
     ]
    },
    {
     "name": "stderr",
     "output_type": "stream",
     "text": [
      "\n",
      "MovieWriter imagemagick unavailable; using Pillow instead.\n"
     ]
    },
    {
     "name": "stdout",
     "output_type": "stream",
     "text": [
      "Reverse denoising completed.\n"
     ]
    },
    {
     "name": "stderr",
     "output_type": "stream",
     "text": [
      "MovieWriter imagemagick unavailable; using Pillow instead.\n"
     ]
    },
    {
     "name": "stdout",
     "output_type": "stream",
     "text": [
      "Forward diffusion animation saved.\n"
     ]
    },
    {
     "name": "stderr",
     "output_type": "stream",
     "text": [
      "/tmp/ipykernel_157637/2639094571.py:42: RuntimeWarning: divide by zero encountered in divide\n",
      "  return np.sum(p_true * np.log(p_true / p_approx))\n",
      "/tmp/ipykernel_157637/2639094571.py:42: RuntimeWarning: overflow encountered in divide\n",
      "  return np.sum(p_true * np.log(p_true / p_approx))\n"
     ]
    },
    {
     "name": "stdout",
     "output_type": "stream",
     "text": [
      "Reverse denoising animation saved.\n",
      "Forward process completed. Running reverse denoising...\n"
     ]
    },
    {
     "name": "stderr",
     "output_type": "stream",
     "text": [
      "19it [00:00, 4914.09it/s]\n",
      "MovieWriter imagemagick unavailable; using Pillow instead.\n"
     ]
    },
    {
     "name": "stdout",
     "output_type": "stream",
     "text": [
      "Reverse denoising completed.\n"
     ]
    },
    {
     "name": "stderr",
     "output_type": "stream",
     "text": [
      "MovieWriter imagemagick unavailable; using Pillow instead.\n"
     ]
    },
    {
     "name": "stdout",
     "output_type": "stream",
     "text": [
      "Forward diffusion animation saved.\n",
      "Reverse denoising animation saved.\n",
      "Forward process completed. Running reverse denoising...\n"
     ]
    },
    {
     "name": "stderr",
     "output_type": "stream",
     "text": [
      "19it [00:00, 5466.20it/s]\n",
      "MovieWriter imagemagick unavailable; using Pillow instead.\n"
     ]
    },
    {
     "name": "stdout",
     "output_type": "stream",
     "text": [
      "Reverse denoising completed.\n"
     ]
    },
    {
     "name": "stderr",
     "output_type": "stream",
     "text": [
      "MovieWriter imagemagick unavailable; using Pillow instead.\n"
     ]
    },
    {
     "name": "stdout",
     "output_type": "stream",
     "text": [
      "Forward diffusion animation saved.\n"
     ]
    },
    {
     "name": "stderr",
     "output_type": "stream",
     "text": [
      "/tmp/ipykernel_157637/2639094571.py:42: RuntimeWarning: divide by zero encountered in divide\n",
      "  return np.sum(p_true * np.log(p_true / p_approx))\n",
      "/tmp/ipykernel_157637/2639094571.py:42: RuntimeWarning: overflow encountered in divide\n",
      "  return np.sum(p_true * np.log(p_true / p_approx))\n"
     ]
    },
    {
     "name": "stdout",
     "output_type": "stream",
     "text": [
      "Reverse denoising animation saved.\n"
     ]
    }
   ],
   "source": [
    "import torch\n",
    "import matplotlib.pyplot as plt\n",
    "import numpy as np\n",
    "import matplotlib.animation as animation\n",
    "from tqdm import tqdm\n",
    "from scipy.stats import gaussian_kde\n",
    "import os\n",
    "\n",
    "torch.manual_seed(42)\n",
    "\n",
    "# Parameters for different Gaussian distributions\n",
    "num_samples = 1000\n",
    "mean_1, std_1 = 0, 1\n",
    "mean_2, std_2 = 5, 2\n",
    "mean_3, std_3 = -3, 0.5\n",
    "\n",
    "# Generate random samples\n",
    "gaussian_data_1 = torch.normal(mean_1, std_1, size=(num_samples,))\n",
    "gaussian_data_2 = torch.normal(mean_2, std_2, size=(num_samples,))\n",
    "gaussian_data_3 = torch.normal(mean_3, std_3, size=(num_samples,))\n",
    "x_0 = torch.cat([gaussian_data_1, gaussian_data_2, gaussian_data_3])\n",
    "\n",
    "# Beta scheduler functions\n",
    "def linear_beta_schedule(T, beta_min, beta_max):\n",
    "    return torch.linspace(beta_min, beta_max, T)\n",
    "\n",
    "def constant_beta_schedule(T, beta_value):\n",
    "    return torch.full((T,), beta_value)\n",
    "\n",
    "def exponential_beta_schedule(T, beta_min, beta_max):\n",
    "    return torch.exp(torch.linspace(torch.log(torch.tensor(beta_min)), torch.log(torch.tensor(beta_max)), T))\n",
    "\n",
    "# KL divergence calculation function\n",
    "def calculate_kl_divergence(true_dist, approx_dist):\n",
    "    kde_true = gaussian_kde(true_dist, bw_method='silverman')\n",
    "    kde_approx = gaussian_kde(approx_dist, bw_method='silverman')\n",
    "    x_grid = np.linspace(min(true_dist.min(), approx_dist.min()), max(true_dist.max(), approx_dist.max()), 1000)\n",
    "    p_true = kde_true(x_grid)\n",
    "    p_approx = kde_approx(x_grid)\n",
    "    p_true = p_true / np.sum(p_true)\n",
    "    p_approx = p_approx / np.sum(p_approx)\n",
    "    return np.sum(p_true * np.log(p_true / p_approx))\n",
    "\n",
    "# Forward diffusion function\n",
    "def forward_diffusion(x_0, betas, T):\n",
    "    sqrt_one_minus_betas = torch.sqrt(1 - betas)\n",
    "    sqrt_betas = torch.sqrt(betas)\n",
    "    x_t = x_0.clone()\n",
    "    trajectory = [x_t]\n",
    "    for t in range(T):\n",
    "        noise = torch.randn_like(x_t)\n",
    "        x_t = sqrt_one_minus_betas[t] * x_t + sqrt_betas[t] * noise\n",
    "        trajectory.append(x_t)\n",
    "    return trajectory\n",
    "\n",
    "# Reverse denoising function\n",
    "def reverse_denoising2(trajectory, betas, T, min_beta_tilde=1e-4, noise_floor=1e-4):\n",
    "    alphas = 1 - betas\n",
    "    alpha_bar = torch.cumprod(alphas, dim=0)\n",
    "    xt = trajectory[-1]\n",
    "    reverse_trajectory = [xt]\n",
    "    for t in tqdm(reversed(range(1, T))):\n",
    "        alpha_bar_t_1 = alpha_bar[t - 1]\n",
    "        alpha_bar_t = alpha_bar[t]\n",
    "        beta_t = betas[t - 1]\n",
    "        sqrt_alpha_bar_t_1 = torch.sqrt(alpha_bar_t_1)\n",
    "        sqrt_alpha_bar_t = torch.sqrt(alpha_bar_t)\n",
    "        one_minus_alpha_bar_t = 1 - alpha_bar_t\n",
    "        one_minus_alpha_bar_t_1 = 1 - alpha_bar_t_1\n",
    "        mu_t = (sqrt_alpha_bar_t_1 / sqrt_alpha_bar_t) * beta_t * x_0 + (torch.sqrt(alphas)[t] * one_minus_alpha_bar_t_1 / one_minus_alpha_bar_t) * xt\n",
    "        # beta_t_tilde = torch.maximum((1 - alpha_bar_t_1) / (1 - alpha_bar_t) * beta_t, torch.tensor(min_beta_tilde))\n",
    "        beta_t_tilde = (1 - alpha_bar_t_1) / (1 - alpha_bar_t) * beta_t\n",
    "        noise = torch.randn_like(xt) * torch.sqrt(beta_t_tilde + noise_floor)\n",
    "        xt = mu_t + noise\n",
    "        reverse_trajectory.append(xt)\n",
    "    return reverse_trajectory\n",
    "\n",
    "# Update function for the forward diffusion plot\n",
    "def update_plot1(frame, trajectory, x_0, ax):\n",
    "    ax.clear()\n",
    "    kl_divergence = calculate_kl_divergence(x_0.numpy(), trajectory[frame].numpy())\n",
    "    ax.hist(trajectory[frame].numpy(), bins=50, density=True, alpha=0.6, label=f\"KL Divergence: {kl_divergence:.4f}\")\n",
    "    ax.hist(x_0.numpy(), bins=50, density=True, alpha=0.2, color='gray', label=\"Original Distribution\")\n",
    "    ax.set_title(f\"q(x{frame}) - KL Divergence: {kl_divergence:.4f}\")\n",
    "    ax.set_xlim(-10, 10)\n",
    "    ax.set_ylim(0, 0.4)\n",
    "    ax.set_xlabel('x')\n",
    "    ax.set_ylabel('Density')\n",
    "    ax.legend()\n",
    "\n",
    "# Update function for the reverse denoising plot\n",
    "def update_plot2(frame, reverse_trajectory, x_0, ax):\n",
    "    ax.clear()\n",
    "    kl_divergence = calculate_kl_divergence(x_0.numpy(), reverse_trajectory[frame].numpy())\n",
    "    ax.hist(reverse_trajectory[frame].numpy(), bins=50, density=True, alpha=0.6, label=f\"KL Divergence: {kl_divergence:.4f}\")\n",
    "    ax.hist(x_0.numpy(), bins=50, density=True, alpha=0.2, color='gray', label=\"Original Distribution\")\n",
    "    ax.set_title(f\"Reverse Step {T - frame} - KL Divergence: {kl_divergence:.4f}\")\n",
    "    ax.set_xlim(-10, 10)\n",
    "    ax.set_ylim(0, 0.4)\n",
    "    ax.set_xlabel('x')\n",
    "    ax.set_ylabel('Density')\n",
    "    ax.legend()\n",
    "\n",
    "# Main function to run experiments\n",
    "def run_experiment(T, beta_scheduler, beta_params, result_folder, scheduler_name):\n",
    "    os.makedirs(result_folder, exist_ok=True)\n",
    "    \n",
    "    if beta_scheduler == \"linear\":\n",
    "        betas = linear_beta_schedule(T, **beta_params)\n",
    "    elif beta_scheduler == \"constant\":\n",
    "        betas = constant_beta_schedule(T, **beta_params)\n",
    "    elif beta_scheduler == \"exponential\":\n",
    "        betas = exponential_beta_schedule(T, **beta_params)\n",
    "    else:\n",
    "        raise ValueError(\"Invalid beta scheduler\")\n",
    "\n",
    "    trajectory = forward_diffusion(x_0, betas, T)\n",
    "    print(\"Forward process completed. Running reverse denoising...\")\n",
    "    reverse_trajectory = reverse_denoising2(trajectory, betas, T)\n",
    "    print(\"Reverse denoising completed.\")\n",
    "    frames_to_plot = range(0, T, max(1, T // 100))\n",
    "     # Calculate the interval for 5 seconds\n",
    "    total_duration = 5000  # 5 seconds in milliseconds\n",
    "    interval = total_duration / T  # Time between frames in milliseconds\n",
    "    \n",
    "    # Forward diffusion animation\n",
    "    fig, ax = plt.subplots(figsize=(6, 4))\n",
    "    ani = animation.FuncAnimation(fig, update_plot1, frames=frames_to_plot, interval=interval, repeat=True, fargs=(trajectory, x_0, ax))\n",
    "    ani.save(os.path.join(result_folder, f'forward_diffusion_{scheduler_name}_{T}.gif'), writer='imagemagick')\n",
    "    plt.close(fig)\n",
    "    print(\"Forward diffusion animation saved.\")\n",
    "    \n",
    "    # Reverse denoising animation\n",
    "    fig, ax = plt.subplots(figsize=(6, 4))\n",
    "    ani = animation.FuncAnimation(fig, update_plot2, frames=frames_to_plot, interval=interval, repeat=True, fargs=(reverse_trajectory, x_0, ax))\n",
    "    ani.save(os.path.join(result_folder, f'reverse_diffusion_{scheduler_name}_{T}.gif'), writer='imagemagick')\n",
    "    plt.close(fig)\n",
    "    print(\"Reverse denoising animation saved.\")\n",
    "\n",
    "# Example usage\n",
    "T = 500\n",
    "result_folder = \"results\"\n",
    "run_experiment(T, \"linear\", {\"beta_min\": 0.0001, \"beta_max\": 0.1}, result_folder, \"linear\")\n",
    "run_experiment(T, \"constant\", {\"beta_value\": 0.01}, result_folder, \"constant\")\n",
    "run_experiment(T, \"exponential\", {\"beta_min\": 0.0001, \"beta_max\": 0.1}, result_folder, \"exponential\")\n"
   ]
  },
  {
   "cell_type": "code",
   "execution_count": null,
   "metadata": {},
   "outputs": [],
   "source": [
    "T = 20\n",
    "result_folder = \"results\"\n",
    "run_experiment(T, \"linear\", {\"beta_min\": 0.01, \"beta_max\": 0.5}, result_folder, \"linear\")\n",
    "run_experiment(T, \"constant\", {\"beta_value\": 0.1}, result_folder, \"constant\")\n",
    "run_experiment(T, \"exponential\", {\"beta_min\": 0.01, \"beta_max\": 0.5}, result_folder, \"exponential\")\n",
    "T = 10\n",
    "result_folder = \"results\"\n",
    "run_experiment(T, \"linear\", {\"beta_min\": 0.01, \"beta_max\": 0.5}, result_folder, \"linear\")\n",
    "run_experiment(T, \"constant\", {\"beta_value\": 0.1}, result_folder, \"constant\")\n",
    "run_experiment(T, \"exponential\", {\"beta_min\": 0.01, \"beta_max\": 0.5}, result_folder, \"exponential\")"
   ]
  }
 ],
 "metadata": {
  "kernelspec": {
   "display_name": "GGSP",
   "language": "python",
   "name": "python3"
  },
  "language_info": {
   "codemirror_mode": {
    "name": "ipython",
    "version": 3
   },
   "file_extension": ".py",
   "mimetype": "text/x-python",
   "name": "python",
   "nbconvert_exporter": "python",
   "pygments_lexer": "ipython3",
   "version": "3.11.10"
  }
 },
 "nbformat": 4,
 "nbformat_minor": 2
}
